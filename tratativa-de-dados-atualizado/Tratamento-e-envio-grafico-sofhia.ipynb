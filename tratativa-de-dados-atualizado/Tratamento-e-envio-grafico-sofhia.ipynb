{
 "cells": [
  {
   "cell_type": "code",
   "execution_count": 1,
   "id": "a298eea3",
   "metadata": {},
   "outputs": [
    {
     "name": "stdout",
     "output_type": "stream",
     "text": [
      ":: loading settings :: url = jar:file:/usr/local/lib/python3.7/site-packages/pyspark/jars/ivy-2.5.1.jar!/org/apache/ivy/core/settings/ivysettings.xml\n"
     ]
    },
    {
     "name": "stderr",
     "output_type": "stream",
     "text": [
      "Ivy Default Cache set to: /root/.ivy2/cache\n",
      "The jars for the packages stored in: /root/.ivy2/jars\n",
      "org.apache.hadoop#hadoop-aws added as a dependency\n",
      "com.amazonaws#aws-java-sdk-bundle added as a dependency\n",
      ":: resolving dependencies :: org.apache.spark#spark-submit-parent-2cc5cc8f-20f9-4e84-91a3-25529e92509d;1.0\n",
      "\tconfs: [default]\n",
      "\tfound org.apache.hadoop#hadoop-aws;3.3.4 in central\n",
      "\tfound com.amazonaws#aws-java-sdk-bundle;1.12.262 in central\n",
      "\tfound org.wildfly.openssl#wildfly-openssl;1.0.7.Final in central\n",
      ":: resolution report :: resolve 438ms :: artifacts dl 25ms\n",
      "\t:: modules in use:\n",
      "\tcom.amazonaws#aws-java-sdk-bundle;1.12.262 from central in [default]\n",
      "\torg.apache.hadoop#hadoop-aws;3.3.4 from central in [default]\n",
      "\torg.wildfly.openssl#wildfly-openssl;1.0.7.Final from central in [default]\n",
      "\t:: evicted modules:\n",
      "\tcom.amazonaws#aws-java-sdk-bundle;1.11.901 by [com.amazonaws#aws-java-sdk-bundle;1.12.262] in [default]\n",
      "\t---------------------------------------------------------------------\n",
      "\t|                  |            modules            ||   artifacts   |\n",
      "\t|       conf       | number| search|dwnlded|evicted|| number|dwnlded|\n",
      "\t---------------------------------------------------------------------\n",
      "\t|      default     |   4   |   0   |   0   |   1   ||   3   |   0   |\n",
      "\t---------------------------------------------------------------------\n",
      ":: retrieving :: org.apache.spark#spark-submit-parent-2cc5cc8f-20f9-4e84-91a3-25529e92509d\n",
      "\tconfs: [default]\n",
      "\t0 artifacts copied, 3 already retrieved (0kB/8ms)\n",
      "25/05/31 22:19:12 WARN NativeCodeLoader: Unable to load native-hadoop library for your platform... using builtin-java classes where applicable\n",
      "Setting default log level to \"WARN\".\n",
      "To adjust logging level use sc.setLogLevel(newLevel). For SparkR, use setLogLevel(newLevel).\n",
      "/usr/local/lib/python3.7/site-packages/pyspark/context.py:317: FutureWarning: Python 3.7 support is deprecated in Spark 3.4.\n",
      "  warnings.warn(\"Python 3.7 support is deprecated in Spark 3.4.\", FutureWarning)\n",
      "25/05/31 22:19:18 WARN MetricsConfig: Cannot locate configuration: tried hadoop-metrics2-s3a-file-system.properties,hadoop-metrics2.properties\n",
      "                                                                                \r"
     ]
    }
   ],
   "source": [
    "from pyspark import SparkConf\n",
    "from pyspark.sql import SparkSession\n",
    "from pyspark.sql.functions import col, avg, sum as sum_, first, round, min, when, lit, to_date, to_timestamp, date_format\n",
    "from pyspark.sql.types import DoubleType, IntegerType, StringType, DateType, TimestampType\n",
    "\n",
    "# Configurações do Spark\n",
    "conf = SparkConf()\n",
    "conf.set('spark.jars.packages', 'org.apache.hadoop:hadoop-aws:3.3.4,com.amazonaws:aws-java-sdk-bundle:1.11.901')\n",
    "conf.set('spark.hadoop.fs.s3a.aws.credentials.provider', 'com.amazonaws.auth.InstanceProfileCredentialsProvider')\n",
    "\n",
    "# Criar sessão Spark\n",
    "spark = SparkSession.builder.config(conf=conf).getOrCreate()\n",
    "\n",
    "# Ler o CSV, já tratando \"NULL\" como valor nulo\n",
    "TabelaCompleta = spark.read.option('delimiter', ',') \\\n",
    "              .option('header', 'true') \\\n",
    "              .option('nullValue', 'NULL') \\\n",
    "              .csv('s3a://bucket-raw-upa-connect/tabela_historico_sensor.csv')\n",
    "\n",
    "upa_df = spark.read.option('delimiter', ',') \\\n",
    "              .option('header', 'true') \\\n",
    "              .csv('s3a://bucket-raw-upa-connect/tabela_upa.csv')\n",
    "\n",
    "unidadeDeMedida_df = spark.read.option('delimiter', ',') \\\n",
    "              .option('header', 'true') \\\n",
    "              .csv('s3a://bucket-raw-upa-connect/unid_medida.csv')\n",
    "\n",
    "# Converter 'valor' para DoubleType e 'fk_upa' para IntegerType\n",
    "# a = a.withColumn('valor', col('valor').cast(DoubleType())) \\\n",
    "#      .withColumn('fk_paciente', col('fk_paciente').cast(IntegerType()))\n",
    "\n",
    "# TabelaCompleta.show()\n",
    "# upa_df.show()\n",
    "# paciente_df.show(170)\n",
    "# sensor_df.show()\n",
    "# unidadeDeMedida_df.show()"
   ]
  },
  {
   "cell_type": "code",
   "execution_count": 2,
   "id": "535aa811",
   "metadata": {},
   "outputs": [
    {
     "name": "stdout",
     "output_type": "stream",
     "text": [
      "+-------------------+-------+------+-----------+---------+--------------+\n",
      "|          data_hora|umidade|fk_upa|fk_paciente|fk_sensor|fk_unid_medida|\n",
      "+-------------------+-------+------+-----------+---------+--------------+\n",
      "|2025-05-20 00:00:00|  89.53|    33|       null|        2|             2|\n",
      "|2025-05-20 00:00:00|  -6.13|    32|       null|        2|             2|\n",
      "|2025-05-20 00:00:00|  84.49|    31|       null|        2|             2|\n",
      "|2025-05-20 00:00:00|  82.54|    30|       null|        2|             2|\n",
      "|2025-05-20 00:00:00|  55.49|    29|       null|        2|             2|\n",
      "|2025-05-20 00:00:00|  72.41|    28|       null|        2|             2|\n",
      "|2025-05-20 00:00:00|  33.11|    27|       null|        2|             2|\n",
      "|2025-05-20 00:00:00|  77.76|    26|       null|        2|             2|\n",
      "|2025-05-20 00:00:00|  63.99|    34|       null|        2|             2|\n",
      "|2025-05-20 00:00:00|  37.22|    25|       null|        2|             2|\n",
      "|2025-05-20 00:00:00|  32.92|    15|       null|        2|             2|\n",
      "|2025-05-20 00:00:00|  71.38|    14|       null|        2|             2|\n",
      "|2025-05-20 00:00:00|  47.91|    13|       null|        2|             2|\n",
      "|2025-05-20 00:00:00|  72.01|    12|       null|        2|             2|\n",
      "|2025-05-20 00:00:00|  34.27|    11|       null|        2|             2|\n",
      "|2025-05-20 00:00:00|  73.09|    10|       null|        2|             2|\n",
      "|2025-05-20 00:00:00|  22.74|     9|       null|        2|             2|\n",
      "|2025-05-20 00:00:00|  58.94|    16|       null|        2|             2|\n",
      "|2025-05-20 00:00:00|  73.57|     7|       null|        2|             2|\n",
      "|2025-05-20 00:00:00|  90.26|     6|       null|        2|             2|\n",
      "+-------------------+-------+------+-----------+---------+--------------+\n",
      "only showing top 20 rows\n",
      "\n"
     ]
    }
   ],
   "source": [
    "# Aplicar o filtro e garantir que fk_unid_medida seja inteiro\n",
    "df_filtrado_inicial = TabelaCompleta.filter(\n",
    "    (col(\"fk_sensor\") == 2) & \n",
    "    (col(\"fk_unid_medida\") == 2) & \n",
    "    (col('valor').isNotNull())\n",
    ").withColumn(\n",
    "    'valor', col('valor').cast(DoubleType())\n",
    ").withColumn(\n",
    "    'fk_unid_medida', col('fk_unid_medida').cast(IntegerType())\n",
    ").withColumnRenamed(\n",
    "    'valor', 'umidade'\n",
    ")\n",
    "\n",
    "# Exibir\n",
    "df_filtrado_inicial.show()"
   ]
  },
  {
   "cell_type": "code",
   "execution_count": 3,
   "id": "011a42f3",
   "metadata": {},
   "outputs": [
    {
     "name": "stdout",
     "output_type": "stream",
     "text": [
      "+-------------------+-------+------+---------+--------------+\n",
      "|          data_hora|umidade|fk_upa|fk_sensor|fk_unid_medida|\n",
      "+-------------------+-------+------+---------+--------------+\n",
      "|2025-05-20 00:00:00|  89.53|    33|        2|             2|\n",
      "|2025-05-20 00:00:00|  84.49|    31|        2|             2|\n",
      "|2025-05-20 00:00:00|  82.54|    30|        2|             2|\n",
      "|2025-05-20 00:00:00|  55.49|    29|        2|             2|\n",
      "|2025-05-20 00:00:00|  72.41|    28|        2|             2|\n",
      "|2025-05-20 00:00:00|  33.11|    27|        2|             2|\n",
      "|2025-05-20 00:00:00|  77.76|    26|        2|             2|\n",
      "|2025-05-20 00:00:00|  63.99|    34|        2|             2|\n",
      "|2025-05-20 00:00:00|  37.22|    25|        2|             2|\n",
      "|2025-05-20 00:00:00|  32.92|    15|        2|             2|\n",
      "|2025-05-20 00:00:00|  71.38|    14|        2|             2|\n",
      "|2025-05-20 00:00:00|  47.91|    13|        2|             2|\n",
      "|2025-05-20 00:00:00|  72.01|    12|        2|             2|\n",
      "|2025-05-20 00:00:00|  34.27|    11|        2|             2|\n",
      "|2025-05-20 00:00:00|  73.09|    10|        2|             2|\n",
      "|2025-05-20 00:00:00|  22.74|     9|        2|             2|\n",
      "|2025-05-20 00:00:00|  58.94|    16|        2|             2|\n",
      "|2025-05-20 00:00:00|  73.57|     7|        2|             2|\n",
      "|2025-05-20 00:00:00|  90.26|     6|        2|             2|\n",
      "|2025-05-20 00:00:00|   58.8|     5|        2|             2|\n",
      "+-------------------+-------+------+---------+--------------+\n",
      "only showing top 20 rows\n",
      "\n"
     ]
    },
    {
     "name": "stderr",
     "output_type": "stream",
     "text": [
      "25/05/31 22:19:32 WARN AbstractS3ACommitterFactory: Using standard FileOutputCommitter to commit work. This is slow and potentially unsafe.\n",
      "25/05/31 22:19:32 WARN AbstractS3ACommitterFactory: Using standard FileOutputCommitter to commit work. This is slow and potentially unsafe.\n",
      "                                                                                \r"
     ]
    }
   ],
   "source": [
    "# Tirando outliers\n",
    "tirar_outliers_umidade = (col('fk_sensor') == 2) & (col('valor') >= 0) & (col('valor') <= 100)\n",
    "\n",
    "df_filtrado_final = df_filtrado_inicial.filter(\n",
    "    tirar_outliers_umidade\n",
    ").drop('fk_paciente')  # <-- remove a coluna fk_paciente\n",
    "\n",
    "# Mostrar o DataFrame filtrado\n",
    "df_filtrado_final.show()\n",
    "\n",
    "# Salvar no bucket trusted\n",
    "df_filtrado_final.coalesce(1) \\\n",
    "    .write \\\n",
    "    .option('header', 'true') \\\n",
    "    .mode('overwrite') \\\n",
    "    .csv('s3a://bucket-trusted-upa-connect/tabela_umidade_tratada.csv')"
   ]
  },
  {
   "cell_type": "code",
   "execution_count": 4,
   "id": "0b9d5e11",
   "metadata": {},
   "outputs": [],
   "source": [
    "df_tabela_filtrada_trusted = spark.read.option('delimiter', ',') \\\n",
    "              .option('header', 'true') \\\n",
    "              .option('nullValue', 'NULL') \\\n",
    "              .csv('s3a://bucket-trusted-upa-connect/tabela_umidade_tratada.csv')"
   ]
  },
  {
   "cell_type": "code",
   "execution_count": 5,
   "id": "9a01dc0d",
   "metadata": {},
   "outputs": [
    {
     "name": "stderr",
     "output_type": "stream",
     "text": [
      "[Stage 8:>                                                          (0 + 1) / 1]\r"
     ]
    },
    {
     "name": "stdout",
     "output_type": "stream",
     "text": [
      "+------+-------------------+---------------+-----------------+\n",
      "|fk_upa|data_hora          |media_umid_hora|unidade_de_medida|\n",
      "+------+-------------------+---------------+-----------------+\n",
      "|1     |2025-05-20 00:00:00|53.51          |%                |\n",
      "|1     |2025-05-20 01:00:00|52.52          |%                |\n",
      "|1     |2025-05-20 02:00:00|58.42          |%                |\n",
      "|1     |2025-05-20 03:00:00|58.24          |%                |\n",
      "|1     |2025-05-20 04:00:00|49.89          |%                |\n",
      "|1     |2025-05-20 05:00:00|56.83          |%                |\n",
      "|1     |2025-05-20 06:00:00|59.82          |%                |\n",
      "|1     |2025-05-20 07:00:00|54.36          |%                |\n",
      "|1     |2025-05-20 08:00:00|56.14          |%                |\n",
      "|1     |2025-05-20 09:00:00|59.13          |%                |\n",
      "|1     |2025-05-20 10:00:00|51.47          |%                |\n",
      "|1     |2025-05-20 11:00:00|43.17          |%                |\n",
      "|1     |2025-05-20 12:00:00|51.19          |%                |\n",
      "|1     |2025-05-20 13:00:00|67.24          |%                |\n",
      "|1     |2025-05-20 14:00:00|57.54          |%                |\n",
      "|1     |2025-05-20 15:00:00|55.53          |%                |\n",
      "|1     |2025-05-20 16:00:00|59.82          |%                |\n",
      "|1     |2025-05-20 17:00:00|56.27          |%                |\n",
      "|1     |2025-05-20 18:00:00|58.41          |%                |\n",
      "|1     |2025-05-20 19:00:00|70.77          |%                |\n",
      "+------+-------------------+---------------+-----------------+\n",
      "only showing top 20 rows\n",
      "\n"
     ]
    },
    {
     "name": "stderr",
     "output_type": "stream",
     "text": [
      "                                                                                \r"
     ]
    }
   ],
   "source": [
    "from pyspark.sql.functions import date_trunc, avg, round, col\n",
    "\n",
    "# Join com unidade de medida\n",
    "df_com_unidade = df_tabela_filtrada_trusted.join(\n",
    "    unidadeDeMedida_df.select(\n",
    "        col('id_unidade_de_medida').alias('fk_unid_medida'),\n",
    "        col('unidade_de_medida')\n",
    "    ),\n",
    "    on='fk_unid_medida',\n",
    "    how='left'\n",
    ")\n",
    "\n",
    "# Truncar para a hora\n",
    "df_por_hora = df_com_unidade.withColumn(\n",
    "    'data_hora', date_trunc('hour', col('data_hora'))\n",
    ")\n",
    "\n",
    "# Calcular média\n",
    "media_por_hora = df_por_hora.groupBy(\n",
    "    'fk_upa', 'data_hora', 'unidade_de_medida'\n",
    ").agg(\n",
    "    round(avg('umidade'), 2).alias('media_umid_hora')\n",
    ")\n",
    "\n",
    "# ✔️ Selecionar na ordem desejada\n",
    "df_final = media_por_hora.select(\n",
    "    'fk_upa', 'data_hora', 'media_umid_hora', 'unidade_de_medida'\n",
    ").orderBy('fk_upa', 'data_hora')\n",
    "\n",
    "# Mostrar\n",
    "df_final.show(truncate=False)\n"
   ]
  },
  {
   "cell_type": "code",
   "execution_count": 6,
   "id": "c234d00a",
   "metadata": {
    "scrolled": true
   },
   "outputs": [
    {
     "name": "stderr",
     "output_type": "stream",
     "text": [
      "                                                                                \r"
     ]
    },
    {
     "name": "stdout",
     "output_type": "stream",
     "text": [
      "+------+----------+--------+---------------+---------------+-----------------+------------------------+\n",
      "|fk_upa|data      |hora    |nome_da_upa    |media_umid_hora|unidade_de_medida|legenda                 |\n",
      "+------+----------+--------+---------------+---------------+-----------------+------------------------+\n",
      "|1     |2025-05-20|00:00:00|UPA 21 DE JUNHO|53.51          |%                |Umidade dentro do limite|\n",
      "|1     |2025-05-20|01:00:00|UPA 21 DE JUNHO|52.52          |%                |Umidade dentro do limite|\n",
      "|1     |2025-05-20|02:00:00|UPA 21 DE JUNHO|58.42          |%                |Umidade dentro do limite|\n",
      "|1     |2025-05-20|03:00:00|UPA 21 DE JUNHO|58.24          |%                |Umidade dentro do limite|\n",
      "|1     |2025-05-20|04:00:00|UPA 21 DE JUNHO|49.89          |%                |Umidade dentro do limite|\n",
      "|1     |2025-05-20|05:00:00|UPA 21 DE JUNHO|56.83          |%                |Umidade dentro do limite|\n",
      "|1     |2025-05-20|06:00:00|UPA 21 DE JUNHO|59.82          |%                |Umidade dentro do limite|\n",
      "|1     |2025-05-20|07:00:00|UPA 21 DE JUNHO|54.36          |%                |Umidade dentro do limite|\n",
      "|1     |2025-05-20|08:00:00|UPA 21 DE JUNHO|56.14          |%                |Umidade dentro do limite|\n",
      "|1     |2025-05-20|09:00:00|UPA 21 DE JUNHO|59.13          |%                |Umidade dentro do limite|\n",
      "|1     |2025-05-20|10:00:00|UPA 21 DE JUNHO|51.47          |%                |Umidade dentro do limite|\n",
      "|1     |2025-05-20|11:00:00|UPA 21 DE JUNHO|43.17          |%                |Umidade dentro do limite|\n",
      "|1     |2025-05-20|12:00:00|UPA 21 DE JUNHO|51.19          |%                |Umidade dentro do limite|\n",
      "|1     |2025-05-20|13:00:00|UPA 21 DE JUNHO|67.24          |%                |Umidade ACIMA do limite |\n",
      "|1     |2025-05-20|14:00:00|UPA 21 DE JUNHO|57.54          |%                |Umidade dentro do limite|\n",
      "|1     |2025-05-20|15:00:00|UPA 21 DE JUNHO|55.53          |%                |Umidade dentro do limite|\n",
      "|1     |2025-05-20|16:00:00|UPA 21 DE JUNHO|59.82          |%                |Umidade dentro do limite|\n",
      "|1     |2025-05-20|17:00:00|UPA 21 DE JUNHO|56.27          |%                |Umidade dentro do limite|\n",
      "|1     |2025-05-20|18:00:00|UPA 21 DE JUNHO|58.41          |%                |Umidade dentro do limite|\n",
      "|1     |2025-05-20|19:00:00|UPA 21 DE JUNHO|70.77          |%                |Umidade ACIMA do limite |\n",
      "+------+----------+--------+---------------+---------------+-----------------+------------------------+\n",
      "only showing top 20 rows\n",
      "\n"
     ]
    }
   ],
   "source": [
    "# Fazendo o join primeiro\n",
    "df_final = df_final.join(\n",
    "    upa_df.select(\n",
    "        col('id_upa').alias('fk_upa'), \n",
    "        col('nome').alias('nome_da_upa')\n",
    "    ),\n",
    "    on='fk_upa',\n",
    "    how='left'\n",
    ")\n",
    "\n",
    "# Ordenando\n",
    "df_final = df_final.orderBy('fk_upa', 'data_hora')\n",
    "\n",
    "# Criando as colunas de data e hora\n",
    "df_final = df_final.withColumn('data', to_date(col('data_hora'), 'yyyy-MM-dd HH:mm:ss').cast(DateType())) \\\n",
    "                    .withColumn('hora', date_format(col('data_hora'), 'HH:mm:ss').cast(StringType())) \\\n",
    "                    .drop('data_hora')\n",
    "\n",
    "# Adicionando a coluna legenda\n",
    "df_final = df_final.withColumn(\n",
    "    'legenda',\n",
    "    when(col('media_umid_hora') > 60, 'Umidade ACIMA do limite')\n",
    "    .when(col('media_umid_hora') < 40, 'Umidade ABAIXO do limite')\n",
    "    .otherwise('Umidade dentro do limite')\n",
    ")\n",
    "\n",
    "# Reordenando as colunas\n",
    "df_final = df_final.select(\n",
    "    'fk_upa',\n",
    "    'data',\n",
    "    'hora',\n",
    "    'nome_da_upa',\n",
    "    'media_umid_hora',\n",
    "    'unidade_de_medida',\n",
    "    'legenda'\n",
    ")\n",
    "\n",
    "# Exibindo\n",
    "df_final.show(truncate=False)"
   ]
  },
  {
   "cell_type": "code",
   "execution_count": 7,
   "id": "174f9bc3",
   "metadata": {},
   "outputs": [
    {
     "name": "stderr",
     "output_type": "stream",
     "text": [
      "25/05/31 22:19:45 WARN AbstractS3ACommitterFactory: Using standard FileOutputCommitter to commit work. This is slow and potentially unsafe.\n",
      "25/05/31 22:19:46 WARN AbstractS3ACommitterFactory: Using standard FileOutputCommitter to commit work. This is slow and potentially unsafe.\n",
      "                                                                                \r"
     ]
    }
   ],
   "source": [
    "df_final.coalesce(1) \\\n",
    "        .write \\\n",
    "        .option('header', 'true') \\\n",
    "        .mode('overwrite') \\\n",
    "        .csv('s3a://bucket-client-upa-connect/tabela_umidade_pronta.csv')"
   ]
  },
  {
   "cell_type": "code",
   "execution_count": 8,
   "id": "fe85c46d",
   "metadata": {},
   "outputs": [
    {
     "name": "stdout",
     "output_type": "stream",
     "text": [
      "Requirement already satisfied: gspread in /usr/local/lib/python3.7/site-packages (6.0.0)\n",
      "Requirement already satisfied: google-auth-oauthlib in /usr/local/lib/python3.7/site-packages (1.2.2)\n",
      "Requirement already satisfied: boto3 in /usr/local/lib/python3.7/site-packages (1.33.13)\n",
      "Requirement already satisfied: pandas in /usr/local/lib64/python3.7/site-packages (1.3.5)\n",
      "Requirement already satisfied: google-auth>=1.12.0 in /usr/local/lib/python3.7/site-packages (from gspread) (2.40.2)\n",
      "Requirement already satisfied: StrEnum==0.4.15 in /usr/local/lib/python3.7/site-packages (from gspread) (0.4.15)\n",
      "Requirement already satisfied: requests-oauthlib>=0.7.0 in /usr/local/lib/python3.7/site-packages (from google-auth-oauthlib) (2.0.0)\n",
      "Requirement already satisfied: botocore<1.34.0,>=1.33.13 in /usr/local/lib/python3.7/site-packages (from boto3) (1.33.13)\n",
      "Requirement already satisfied: jmespath<2.0.0,>=0.7.1 in /usr/local/lib/python3.7/site-packages (from boto3) (1.0.1)\n",
      "Requirement already satisfied: s3transfer<0.9.0,>=0.8.2 in /usr/local/lib/python3.7/site-packages (from boto3) (0.8.2)\n",
      "Requirement already satisfied: python-dateutil>=2.7.3 in /usr/local/lib/python3.7/site-packages (from pandas) (2.9.0.post0)\n",
      "Requirement already satisfied: pytz>=2017.3 in /usr/local/lib/python3.7/site-packages (from pandas) (2025.2)\n",
      "Requirement already satisfied: numpy>=1.17.3 in /usr/local/lib64/python3.7/site-packages (from pandas) (1.21.6)\n",
      "Requirement already satisfied: urllib3<1.27,>=1.25.4 in /usr/local/lib/python3.7/site-packages (from botocore<1.34.0,>=1.33.13->boto3) (1.26.20)\n",
      "Requirement already satisfied: cachetools<6.0,>=2.0.0 in /usr/local/lib/python3.7/site-packages (from google-auth>=1.12.0->gspread) (5.5.2)\n",
      "Requirement already satisfied: pyasn1-modules>=0.2.1 in /usr/local/lib/python3.7/site-packages (from google-auth>=1.12.0->gspread) (0.3.0)\n",
      "Requirement already satisfied: rsa<5,>=3.1.4 in /usr/local/lib/python3.7/site-packages (from google-auth>=1.12.0->gspread) (4.9.1)\n",
      "Requirement already satisfied: six>=1.5 in /usr/local/lib/python3.7/site-packages (from python-dateutil>=2.7.3->pandas) (1.17.0)\n",
      "Requirement already satisfied: oauthlib>=3.0.0 in /usr/local/lib/python3.7/site-packages (from requests-oauthlib>=0.7.0->google-auth-oauthlib) (3.2.2)\n",
      "Requirement already satisfied: requests>=2.0.0 in /usr/local/lib/python3.7/site-packages (from requests-oauthlib>=0.7.0->google-auth-oauthlib) (2.31.0)\n",
      "Requirement already satisfied: pyasn1<0.6.0,>=0.4.6 in /usr/local/lib/python3.7/site-packages (from pyasn1-modules>=0.2.1->google-auth>=1.12.0->gspread) (0.5.1)\n",
      "Requirement already satisfied: charset-normalizer<4,>=2 in /usr/local/lib64/python3.7/site-packages (from requests>=2.0.0->requests-oauthlib>=0.7.0->google-auth-oauthlib) (3.4.1)\n",
      "Requirement already satisfied: idna<4,>=2.5 in /usr/local/lib/python3.7/site-packages (from requests>=2.0.0->requests-oauthlib>=0.7.0->google-auth-oauthlib) (3.10)\n",
      "Requirement already satisfied: certifi>=2017.4.17 in /usr/local/lib/python3.7/site-packages (from requests>=2.0.0->requests-oauthlib>=0.7.0->google-auth-oauthlib) (2025.4.26)\n",
      "\u001b[33mWARNING: Running pip as the 'root' user can result in broken permissions and conflicting behaviour with the system package manager. It is recommended to use a virtual environment instead: https://pip.pypa.io/warnings/venv\u001b[0m\u001b[33m\n",
      "\u001b[0mNote: you may need to restart the kernel to use updated packages.\n"
     ]
    }
   ],
   "source": [
    "%pip install gspread google-auth-oauthlib boto3 pandas"
   ]
  },
  {
   "cell_type": "code",
   "execution_count": 9,
   "id": "3b8c8004",
   "metadata": {},
   "outputs": [
    {
     "name": "stdout",
     "output_type": "stream",
     "text": [
      "Found existing installation: gspread 6.0.0\n",
      "Uninstalling gspread-6.0.0:\n",
      "  Successfully uninstalled gspread-6.0.0\n",
      "\u001b[33mWARNING: Running pip as the 'root' user can result in broken permissions and conflicting behaviour with the system package manager. It is recommended to use a virtual environment instead: https://pip.pypa.io/warnings/venv\u001b[0m\u001b[33m\n",
      "\u001b[0mCollecting gspread==3.7.0\n",
      "  Downloading gspread-3.7.0-py3-none-any.whl.metadata (1.9 kB)\n",
      "Requirement already satisfied: google-auth>=1.12.0 in /usr/local/lib/python3.7/site-packages (from gspread==3.7.0) (2.40.2)\n",
      "Requirement already satisfied: google-auth-oauthlib>=0.4.1 in /usr/local/lib/python3.7/site-packages (from gspread==3.7.0) (1.2.2)\n",
      "Requirement already satisfied: cachetools<6.0,>=2.0.0 in /usr/local/lib/python3.7/site-packages (from google-auth>=1.12.0->gspread==3.7.0) (5.5.2)\n",
      "Requirement already satisfied: pyasn1-modules>=0.2.1 in /usr/local/lib/python3.7/site-packages (from google-auth>=1.12.0->gspread==3.7.0) (0.3.0)\n",
      "Requirement already satisfied: rsa<5,>=3.1.4 in /usr/local/lib/python3.7/site-packages (from google-auth>=1.12.0->gspread==3.7.0) (4.9.1)\n",
      "Requirement already satisfied: requests-oauthlib>=0.7.0 in /usr/local/lib/python3.7/site-packages (from google-auth-oauthlib>=0.4.1->gspread==3.7.0) (2.0.0)\n",
      "Requirement already satisfied: pyasn1<0.6.0,>=0.4.6 in /usr/local/lib/python3.7/site-packages (from pyasn1-modules>=0.2.1->google-auth>=1.12.0->gspread==3.7.0) (0.5.1)\n",
      "Requirement already satisfied: oauthlib>=3.0.0 in /usr/local/lib/python3.7/site-packages (from requests-oauthlib>=0.7.0->google-auth-oauthlib>=0.4.1->gspread==3.7.0) (3.2.2)\n",
      "Requirement already satisfied: requests>=2.0.0 in /usr/local/lib/python3.7/site-packages (from requests-oauthlib>=0.7.0->google-auth-oauthlib>=0.4.1->gspread==3.7.0) (2.31.0)\n",
      "Requirement already satisfied: charset-normalizer<4,>=2 in /usr/local/lib64/python3.7/site-packages (from requests>=2.0.0->requests-oauthlib>=0.7.0->google-auth-oauthlib>=0.4.1->gspread==3.7.0) (3.4.1)\n",
      "Requirement already satisfied: idna<4,>=2.5 in /usr/local/lib/python3.7/site-packages (from requests>=2.0.0->requests-oauthlib>=0.7.0->google-auth-oauthlib>=0.4.1->gspread==3.7.0) (3.10)\n",
      "Requirement already satisfied: urllib3<3,>=1.21.1 in /usr/local/lib/python3.7/site-packages (from requests>=2.0.0->requests-oauthlib>=0.7.0->google-auth-oauthlib>=0.4.1->gspread==3.7.0) (1.26.20)\n",
      "Requirement already satisfied: certifi>=2017.4.17 in /usr/local/lib/python3.7/site-packages (from requests>=2.0.0->requests-oauthlib>=0.7.0->google-auth-oauthlib>=0.4.1->gspread==3.7.0) (2025.4.26)\n",
      "Downloading gspread-3.7.0-py3-none-any.whl (28 kB)\n",
      "Installing collected packages: gspread\n",
      "Successfully installed gspread-3.7.0\n",
      "\u001b[33mWARNING: Running pip as the 'root' user can result in broken permissions and conflicting behaviour with the system package manager. It is recommended to use a virtual environment instead: https://pip.pypa.io/warnings/venv\u001b[0m\u001b[33m\n",
      "\u001b[0m"
     ]
    }
   ],
   "source": [
    "!pip uninstall gspread -y\n",
    "!pip install gspread==3.7.0"
   ]
  },
  {
   "cell_type": "code",
   "execution_count": 10,
   "id": "fde722b9",
   "metadata": {},
   "outputs": [
    {
     "name": "stdout",
     "output_type": "stream",
     "text": [
      "Requirement already satisfied: pip in /usr/local/lib/python3.7/site-packages (24.0)\n",
      "\u001b[33mWARNING: Running pip as the 'root' user can result in broken permissions and conflicting behaviour with the system package manager. It is recommended to use a virtual environment instead: https://pip.pypa.io/warnings/venv\u001b[0m\u001b[33m\n",
      "\u001b[0mNote: you may need to restart the kernel to use updated packages.\n"
     ]
    }
   ],
   "source": [
    "%pip install --upgrade pip"
   ]
  },
  {
   "cell_type": "code",
   "execution_count": 11,
   "id": "4788c962",
   "metadata": {},
   "outputs": [
    {
     "name": "stdout",
     "output_type": "stream",
     "text": [
      "Requirement already satisfied: pandas in /usr/local/lib64/python3.7/site-packages (1.3.5)\n",
      "Requirement already satisfied: python-dateutil>=2.7.3 in /usr/local/lib/python3.7/site-packages (from pandas) (2.9.0.post0)\n",
      "Requirement already satisfied: pytz>=2017.3 in /usr/local/lib/python3.7/site-packages (from pandas) (2025.2)\n",
      "Requirement already satisfied: numpy>=1.17.3 in /usr/local/lib64/python3.7/site-packages (from pandas) (1.21.6)\n",
      "Requirement already satisfied: six>=1.5 in /usr/local/lib/python3.7/site-packages (from python-dateutil>=2.7.3->pandas) (1.17.0)\n"
     ]
    },
    {
     "name": "stderr",
     "output_type": "stream",
     "text": [
      "WARNING: Running pip as the 'root' user can result in broken permissions and conflicting behaviour with the system package manager. It is recommended to use a virtual environment instead: https://pip.pypa.io/warnings/venv\n"
     ]
    },
    {
     "name": "stdout",
     "output_type": "stream",
     "text": [
      "'pandas' instalado com sucesso.\n",
      "Requirement already satisfied: gspread in /usr/local/lib/python3.7/site-packages (3.7.0)\n",
      "Requirement already satisfied: google-auth>=1.12.0 in /usr/local/lib/python3.7/site-packages (from gspread) (2.40.2)\n",
      "Requirement already satisfied: google-auth-oauthlib>=0.4.1 in /usr/local/lib/python3.7/site-packages (from gspread) (1.2.2)\n",
      "Requirement already satisfied: cachetools<6.0,>=2.0.0 in /usr/local/lib/python3.7/site-packages (from google-auth>=1.12.0->gspread) (5.5.2)\n",
      "Requirement already satisfied: pyasn1-modules>=0.2.1 in /usr/local/lib/python3.7/site-packages (from google-auth>=1.12.0->gspread) (0.3.0)\n",
      "Requirement already satisfied: rsa<5,>=3.1.4 in /usr/local/lib/python3.7/site-packages (from google-auth>=1.12.0->gspread) (4.9.1)\n",
      "Requirement already satisfied: requests-oauthlib>=0.7.0 in /usr/local/lib/python3.7/site-packages (from google-auth-oauthlib>=0.4.1->gspread) (2.0.0)\n",
      "Requirement already satisfied: pyasn1<0.6.0,>=0.4.6 in /usr/local/lib/python3.7/site-packages (from pyasn1-modules>=0.2.1->google-auth>=1.12.0->gspread) (0.5.1)\n",
      "Requirement already satisfied: oauthlib>=3.0.0 in /usr/local/lib/python3.7/site-packages (from requests-oauthlib>=0.7.0->google-auth-oauthlib>=0.4.1->gspread) (3.2.2)\n",
      "Requirement already satisfied: requests>=2.0.0 in /usr/local/lib/python3.7/site-packages (from requests-oauthlib>=0.7.0->google-auth-oauthlib>=0.4.1->gspread) (2.31.0)\n",
      "Requirement already satisfied: charset-normalizer<4,>=2 in /usr/local/lib64/python3.7/site-packages (from requests>=2.0.0->requests-oauthlib>=0.7.0->google-auth-oauthlib>=0.4.1->gspread) (3.4.1)\n",
      "Requirement already satisfied: idna<4,>=2.5 in /usr/local/lib/python3.7/site-packages (from requests>=2.0.0->requests-oauthlib>=0.7.0->google-auth-oauthlib>=0.4.1->gspread) (3.10)\n",
      "Requirement already satisfied: urllib3<3,>=1.21.1 in /usr/local/lib/python3.7/site-packages (from requests>=2.0.0->requests-oauthlib>=0.7.0->google-auth-oauthlib>=0.4.1->gspread) (1.26.20)\n",
      "Requirement already satisfied: certifi>=2017.4.17 in /usr/local/lib/python3.7/site-packages (from requests>=2.0.0->requests-oauthlib>=0.7.0->google-auth-oauthlib>=0.4.1->gspread) (2025.4.26)\n"
     ]
    },
    {
     "name": "stderr",
     "output_type": "stream",
     "text": [
      "WARNING: Running pip as the 'root' user can result in broken permissions and conflicting behaviour with the system package manager. It is recommended to use a virtual environment instead: https://pip.pypa.io/warnings/venv\n"
     ]
    },
    {
     "name": "stdout",
     "output_type": "stream",
     "text": [
      "'gspread' instalado com sucesso.\n",
      "Requirement already satisfied: google-auth-oauthlib in /usr/local/lib/python3.7/site-packages (1.2.2)\n",
      "Requirement already satisfied: google-auth>=2.15.0 in /usr/local/lib/python3.7/site-packages (from google-auth-oauthlib) (2.40.2)\n",
      "Requirement already satisfied: requests-oauthlib>=0.7.0 in /usr/local/lib/python3.7/site-packages (from google-auth-oauthlib) (2.0.0)\n",
      "Requirement already satisfied: cachetools<6.0,>=2.0.0 in /usr/local/lib/python3.7/site-packages (from google-auth>=2.15.0->google-auth-oauthlib) (5.5.2)\n",
      "Requirement already satisfied: pyasn1-modules>=0.2.1 in /usr/local/lib/python3.7/site-packages (from google-auth>=2.15.0->google-auth-oauthlib) (0.3.0)\n",
      "Requirement already satisfied: rsa<5,>=3.1.4 in /usr/local/lib/python3.7/site-packages (from google-auth>=2.15.0->google-auth-oauthlib) (4.9.1)\n",
      "Requirement already satisfied: oauthlib>=3.0.0 in /usr/local/lib/python3.7/site-packages (from requests-oauthlib>=0.7.0->google-auth-oauthlib) (3.2.2)\n",
      "Requirement already satisfied: requests>=2.0.0 in /usr/local/lib/python3.7/site-packages (from requests-oauthlib>=0.7.0->google-auth-oauthlib) (2.31.0)\n",
      "Requirement already satisfied: pyasn1<0.6.0,>=0.4.6 in /usr/local/lib/python3.7/site-packages (from pyasn1-modules>=0.2.1->google-auth>=2.15.0->google-auth-oauthlib) (0.5.1)\n",
      "Requirement already satisfied: charset-normalizer<4,>=2 in /usr/local/lib64/python3.7/site-packages (from requests>=2.0.0->requests-oauthlib>=0.7.0->google-auth-oauthlib) (3.4.1)\n",
      "Requirement already satisfied: idna<4,>=2.5 in /usr/local/lib/python3.7/site-packages (from requests>=2.0.0->requests-oauthlib>=0.7.0->google-auth-oauthlib) (3.10)\n",
      "Requirement already satisfied: urllib3<3,>=1.21.1 in /usr/local/lib/python3.7/site-packages (from requests>=2.0.0->requests-oauthlib>=0.7.0->google-auth-oauthlib) (1.26.20)\n",
      "Requirement already satisfied: certifi>=2017.4.17 in /usr/local/lib/python3.7/site-packages (from requests>=2.0.0->requests-oauthlib>=0.7.0->google-auth-oauthlib) (2025.4.26)\n"
     ]
    },
    {
     "name": "stderr",
     "output_type": "stream",
     "text": [
      "WARNING: Running pip as the 'root' user can result in broken permissions and conflicting behaviour with the system package manager. It is recommended to use a virtual environment instead: https://pip.pypa.io/warnings/venv\n"
     ]
    },
    {
     "name": "stdout",
     "output_type": "stream",
     "text": [
      "'google-auth-oauthlib' instalado com sucesso.\n",
      "Requirement already satisfied: boto3 in /usr/local/lib/python3.7/site-packages (1.33.13)\n",
      "Requirement already satisfied: botocore<1.34.0,>=1.33.13 in /usr/local/lib/python3.7/site-packages (from boto3) (1.33.13)\n",
      "Requirement already satisfied: jmespath<2.0.0,>=0.7.1 in /usr/local/lib/python3.7/site-packages (from boto3) (1.0.1)\n",
      "Requirement already satisfied: s3transfer<0.9.0,>=0.8.2 in /usr/local/lib/python3.7/site-packages (from boto3) (0.8.2)\n",
      "Requirement already satisfied: python-dateutil<3.0.0,>=2.1 in /usr/local/lib/python3.7/site-packages (from botocore<1.34.0,>=1.33.13->boto3) (2.9.0.post0)\n",
      "Requirement already satisfied: urllib3<1.27,>=1.25.4 in /usr/local/lib/python3.7/site-packages (from botocore<1.34.0,>=1.33.13->boto3) (1.26.20)\n",
      "Requirement already satisfied: six>=1.5 in /usr/local/lib/python3.7/site-packages (from python-dateutil<3.0.0,>=2.1->botocore<1.34.0,>=1.33.13->boto3) (1.17.0)\n"
     ]
    },
    {
     "name": "stderr",
     "output_type": "stream",
     "text": [
      "WARNING: Running pip as the 'root' user can result in broken permissions and conflicting behaviour with the system package manager. It is recommended to use a virtual environment instead: https://pip.pypa.io/warnings/venv\n"
     ]
    },
    {
     "name": "stdout",
     "output_type": "stream",
     "text": [
      "'boto3' instalado com sucesso.\n",
      "Baixando credenciais do S3: s3://bucket-client-upa-connect/credenciais.json para /tmp/credenciais.json...\n"
     ]
    },
    {
     "name": "stderr",
     "output_type": "stream",
     "text": [
      "/usr/local/lib/python3.7/site-packages/boto3/compat.py:82: PythonDeprecationWarning: Boto3 will no longer support Python 3.7 starting December 13, 2023. To continue receiving service updates, bug fixes, and security updates please upgrade to Python 3.8 or later. More information can be found here: https://aws.amazon.com/blogs/developer/python-support-policy-updates-for-aws-sdks-and-tools/\n",
      "  warnings.warn(warning, PythonDeprecationWarning)\n"
     ]
    },
    {
     "name": "stdout",
     "output_type": "stream",
     "text": [
      "Credenciais baixadas com sucesso.\n",
      "Enviando DataFrame final para a aba 'UmidadeAmbiente'...\n"
     ]
    },
    {
     "name": "stderr",
     "output_type": "stream",
     "text": [
      "                                                                                \r"
     ]
    },
    {
     "name": "stdout",
     "output_type": "stream",
     "text": [
      "DataFrame Spark convertido para Pandas com sucesso.\n",
      "Aba 'UmidadeAmbiente' encontrada e limpa.\n",
      "Dados do DataFrame final enviados com sucesso para a aba 'UmidadeAmbiente'.\n",
      "Arquivo de credenciais temporário '/tmp/credenciais.json' removido.\n"
     ]
    }
   ],
   "source": [
    "# --- Instalação de bibliotecas (adicione esta seção no início do seu script) ---\n",
    "import subprocess\n",
    "import sys\n",
    "\n",
    "# Função para instalar pacotes\n",
    "def install_package(package):\n",
    "    try:\n",
    "        subprocess.check_call([sys.executable, \"-m\", \"pip\", \"install\", package])\n",
    "        print(f\"'{package}' instalado com sucesso.\")\n",
    "    except Exception as e:\n",
    "        print(f\"Erro ao instalar '{package}': {e}\")\n",
    "        # Em ambientes de produção, você pode querer adicionar um exit(1) aqui\n",
    "        # para parar a execução se uma dependência crítica não puder ser instalada.\n",
    "\n",
    "# Instalar as bibliotecas necessárias\n",
    "install_package(\"pandas\")\n",
    "install_package(\"gspread\")\n",
    "install_package(\"google-auth-oauthlib\") # Necessário para google.oauth2.service_account.Credentials\n",
    "install_package(\"boto3\") # Para interagir com o S3\n",
    "# --- Fim da seção de instalação de bibliotecas ---\n",
    "\n",
    "\n",
    "# --- CÓDIGO PARA ENVIAR PARA O GOOGLE SHEETS ---\n",
    "import pandas as pd # <-- MOVIDO PARA AQUI PARA GARANTIR QUE 'pd' ESTEJA NO ESCOPO\n",
    "import gspread\n",
    "from google.oauth2.service_account import Credentials\n",
    "import boto3\n",
    "import os\n",
    "import sys\n",
    "\n",
    "# === CONFIGURAÇÕES PARA O GOOGLE SHEETS ===\n",
    "GOOGLE_SHEET_ID = '1i6BfuZXPOcTp6BFAiVkpktOBym0HtakZacUKfDzu1zI'\n",
    "S3_BUCKET_CREDENTIALS = 'bucket-client-upa-connect'\n",
    "S3_KEY_CREDENTIALS = 'credenciais.json'\n",
    "LOCAL_CREDENTIALS_PATH = '/tmp/credenciais.json'\n",
    "\n",
    "# === AUTENTICAÇÃO GOOGLE ===\n",
    "print(f\"Baixando credenciais do S3: s3://{S3_BUCKET_CREDENTIALS}/{S3_KEY_CREDENTIALS} para {LOCAL_CREDENTIALS_PATH}...\")\n",
    "s3 = boto3.client('s3')\n",
    "try:\n",
    "    s3.download_file(S3_BUCKET_CREDENTIALS, S3_KEY_CREDENTIALS, LOCAL_CREDENTIALS_PATH)\n",
    "    print(\"Credenciais baixadas com sucesso.\")\n",
    "except Exception as e:\n",
    "    print(f\"Erro ao baixar credenciais do S3: {e}\")\n",
    "    sys.exit(1)\n",
    "\n",
    "scopes = [\"https://www.googleapis.com/auth/spreadsheets\", \"https://www.googleapis.com/auth/drive\"]\n",
    "credenciais = Credentials.from_service_account_file(LOCAL_CREDENTIALS_PATH, scopes=scopes)\n",
    "cliente = gspread.authorize(credenciais)\n",
    "planilha = cliente.open_by_key(GOOGLE_SHEET_ID)\n",
    "\n",
    "# === ENVIA O DATAFRAME FINAL PARA A NOVA ABA \"umidade\" ===\n",
    "NOME_ABA_TESTE = \"UmidadeAmbiente\"\n",
    "print(f\"Enviando DataFrame final para a aba '{NOME_ABA_TESTE}'...\")\n",
    "\n",
    "# Converter Spark DataFrame para Pandas DataFrame\n",
    "try:\n",
    "    df_pandas = df_final.toPandas()\n",
    "    print(\"DataFrame Spark convertido para Pandas com sucesso.\")\n",
    "except Exception as e:\n",
    "    print(f\"Erro ao converter Spark DataFrame para Pandas: {e}\")\n",
    "    print(\"O DataFrame pode ser muito grande para a memória do driver ou a sessão Spark está inválida.\")\n",
    "    sys.exit(1)\n",
    "\n",
    "# --- NOVO TRECHO: Ajustar tipagem das colunas para o Google Sheets ---\n",
    "# Apenas formata colunas de data/hora para string ISO 8601.\n",
    "# As demais colunas (numéricas, strings, etc.) são mantidas em seus tipos nativos no Pandas.\n",
    "# O gspread e o Google Sheets farão a inferência de tipo para elas.\n",
    "\n",
    "# # Coluna 'data_chegada': assegurar que é string DD/MM/YYYY\n",
    "if 'data' in df_pandas.columns:\n",
    "    if pd.api.types.is_datetime64_any_dtype(df_pandas['data']):\n",
    "        df_pandas['data'] = df_pandas['data'].dt.strftime('%d/%m/%Y') # <-- MUDANÇA AQUI\n",
    "    elif pd.api.types.is_string_dtype(df_pandas['data']):\n",
    "        # Tentar converter strings que podem não estar em formato padrão para datetime,\n",
    "        # e depois formatar para DD/MM/YYYY. 'errors=coerce' transforma não-datas em NaT.\n",
    "        df_pandas['data'] = pd.to_datetime(df_pandas['data'], errors='coerce').dt.strftime('%d/%m/%Y') # <-- MUDANÇA AQUI\n",
    "    # Preencher valores nulos (NaT) com string vazia, pois None também pode causar problemas.\n",
    "    df_pandas['data'] = df_pandas['data'].fillna('')\n",
    "\n",
    "# # Coluna 'horario_chegada': assegurar que é string HH:MM:SS\n",
    "if 'hora' in df_pandas.columns:\n",
    "    if pd.api.types.is_datetime64_any_dtype(df_pandas['hora']):\n",
    "        df_pandas['hora'] = df_pandas['hora'].dt.strftime('%H:%M:%S')\n",
    "    elif pd.api.types.is_string_dtype(df_pandas['hora']):\n",
    "        # Se já é string (como no seu caso vindo do Spark), apenas garanta que nulos sejam preenchidos.\n",
    "        df_pandas['hora'] = df_pandas['hora'].fillna('')\n",
    "\n",
    "\n",
    "# Nenhuma conversão global df_pandas.astype(str) é necessária aqui.\n",
    "# gspread é capaz de lidar com int, float, bool, e strings diretamente.\n",
    "\n",
    "dados = [df_pandas.columns.tolist()] + df_pandas.values.tolist()\n",
    "\n",
    "\n",
    "try:\n",
    "    aba = planilha.worksheet(NOME_ABA_TESTE)\n",
    "    aba.clear()\n",
    "    print(f\"Aba '{NOME_ABA_TESTE}' encontrada e limpa.\")\n",
    "except gspread.exceptions.WorksheetNotFound:\n",
    "    aba = planilha.add_worksheet(title=NOME_ABA_TESTE, rows=str(len(dados) + 100), cols=str(len(df_pandas.columns) + 10))\n",
    "    print(f\"Aba '{NOME_ABA_TESTE}' criada.\")\n",
    "\n",
    "try:\n",
    "    aba.update('A1', dados)\n",
    "    print(f\"Dados do DataFrame final enviados com sucesso para a aba '{NOME_ABA_TESTE}'.\")\n",
    "except Exception as e:\n",
    "    print(f\"Erro ao atualizar a aba do Google Sheets: {e}\")\n",
    "\n",
    "# Opcional: Remover o arquivo de credenciais temporário\n",
    "if os.path.exists(LOCAL_CREDENTIALS_PATH):\n",
    "    os.remove(LOCAL_CREDENTIALS_PATH)\n",
    "    print(f\"Arquivo de credenciais temporário '{LOCAL_CREDENTIALS_PATH}' removido.\")\n",
    "\n",
    "# Parar a sessão Spark\n",
    "# spark.stop()"
   ]
  }
 ],
 "metadata": {
  "kernelspec": {
   "display_name": "Python 3 (ipykernel)",
   "language": "python",
   "name": "python3"
  },
  "language_info": {
   "codemirror_mode": {
    "name": "ipython",
    "version": 3
   },
   "file_extension": ".py",
   "mimetype": "text/x-python",
   "name": "python",
   "nbconvert_exporter": "python",
   "pygments_lexer": "ipython3",
   "version": "3.7.16"
  }
 },
 "nbformat": 4,
 "nbformat_minor": 5
}

{
 "cells": [
  {
   "cell_type": "code",
   "execution_count": null,
   "id": "289e8617",
   "metadata": {},
   "outputs": [
    {
     "name": "stdout",
     "output_type": "stream",
     "text": [
      "Lendo 7 arquivos JSON do S3...\n",
      "Convertendo 'data_hora' e ordenando os dados...\n",
      "Salvando o arquivo CSV consolidado em s3a://bucket-raw-upa-connect/tabela_historico_sensor.csv...\n",
      "Processo concluído com sucesso!\n"
     ]
    }
   ],
   "source": [
    "import sys\n",
    "\n",
    "try:\n",
    "    import pandas as pd\n",
    "except ImportError:\n",
    "    print(\"Instalando pandas...\")\n",
    "    !{sys.executable} -m pip install pandas\n",
    "    import pandas as pd\n",
    "\n",
    "try:\n",
    "    import s3fs\n",
    "except ImportError:\n",
    "    print(\"Instalando s3fs...\")\n",
    "    !{sys.executable} -m pip install s3fs\n",
    "    import s3fs\n",
    "\n",
    "json_files = [\n",
    "    's3a://bucket-raw-upa-connect-gabriel/historico_climatempo_2025.json'\n",
    "]\n",
    "\n",
    "s3_output_path = 's3a://bucket-raw-upa-connect-gabriel/clima_tempo.csv'\n",
    "\n",
    "def process_selected_json_to_csv(json_file_list, csv_output_path):\n",
    "    fs = s3fs.S3FileSystem()\n",
    "\n",
    "    if not json_file_list:\n",
    "        print(\"A lista de arquivos JSON está vazia.\")\n",
    "        return\n",
    "\n",
    "    all_dataframes = []\n",
    "\n",
    "    print(f\"Lendo {len(json_file_list)} arquivos JSON do S3...\")\n",
    "    for file_path in json_file_list:\n",
    "        try:\n",
    "            with fs.open(file_path, 'rb') as f:\n",
    "                df = pd.read_json(f)\n",
    "                print(f\"Colunas no arquivo {file_path}: {df.columns.tolist()}\")\n",
    "                all_dataframes.append(df)\n",
    "        except Exception as e:\n",
    "            print(f\"Erro ao ler o arquivo {file_path}: {e}\")\n",
    "            continue\n",
    "\n",
    "    if not all_dataframes:\n",
    "        print(\"Nenhum dado foi carregado com sucesso. Verifique os arquivos JSON.\")\n",
    "        return\n",
    "\n",
    "    combined_df = pd.concat(all_dataframes, ignore_index=True)\n",
    "\n",
    "    # Use 'data' se existir, senão aborta com mensagem\n",
    "    date_column = 'data'\n",
    "    if date_column not in combined_df.columns:\n",
    "        print(f\"A coluna '{date_column}' não foi encontrada. Colunas disponíveis: {combined_df.columns.tolist()}\")\n",
    "        return\n",
    "\n",
    "    print(f\"Convertendo '{date_column}' para datetime e ordenando os dados...\")\n",
    "    combined_df[date_column] = pd.to_datetime(combined_df[date_column])\n",
    "    combined_df = combined_df.sort_values(by=date_column).reset_index(drop=True)\n",
    "\n",
    "    try:\n",
    "        print(f\"Salvando o arquivo CSV consolidado em {csv_output_path}...\")\n",
    "        with fs.open(csv_output_path, 'wb') as f:\n",
    "            combined_df.to_csv(f, index=False)\n",
    "        print(\"Processo concluído com sucesso!\")\n",
    "    except Exception as e:\n",
    "        print(f\"Erro ao salvar o arquivo CSV no S3: {e}\")\n",
    "        print(\"Verifique suas permissões de escrita para o bucket S3.\")\n",
    "\n",
    "process_selected_json_to_csv(json_files, s3_output_path)"
   ]
  }
 ],
 "metadata": {
  "kernelspec": {
   "display_name": "Python 3 (ipykernel)",
   "language": "python",
   "name": "python3"
  },
  "language_info": {
   "codemirror_mode": {
    "name": "ipython",
    "version": 3
   },
   "file_extension": ".py",
   "mimetype": "text/x-python",
   "name": "python",
   "nbconvert_exporter": "python",
   "pygments_lexer": "ipython3",
   "version": "3.7.16"
  }
 },
 "nbformat": 4,
 "nbformat_minor": 5
}

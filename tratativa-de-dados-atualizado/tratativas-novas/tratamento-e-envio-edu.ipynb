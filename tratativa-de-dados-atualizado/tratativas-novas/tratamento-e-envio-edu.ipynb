{
 "cells": [
  {
   "cell_type": "code",
   "execution_count": null,
   "id": "034a073c",
   "metadata": {
    "tags": [
     "parameters"
    ]
   },
   "outputs": [],
   "source": [
    "#Parameters\n",
    "archive_name  = \"\"\n",
    "raw_bucket    = \"\"\n",
    "output_bucket = \"\""
   ]
  },
  {
   "cell_type": "code",
   "execution_count": null,
   "id": "9bc224e8",
   "metadata": {},
   "outputs": [],
   "source": [
    "from pyspark import SparkConf\n",
    "from pyspark.sql import SparkSession\n",
    "from pyspark.sql.functions import col, avg, sum as sum_, first, round, min, when, lit, to_date, to_timestamp, date_format, hour\n",
    "from pyspark.sql.types import DoubleType, IntegerType, StringType, DateType, TimestampType"
   ]
  },
  {
   "cell_type": "code",
   "execution_count": null,
   "id": "4c8d8adc",
   "metadata": {},
   "outputs": [],
   "source": [
    "%pip install boto3 pandas\n",
    "\n",
    "import boto3\n",
    "import pandas as pd\n",
    "import io\n",
    "\n",
    "# Inicializa o cliente S3\n",
    "s3_client = boto3.client('s3')\n",
    "\n",
    "response = s3_client.get_object(Bucket=raw_bucket, Key=archive_name)\n",
    "    \n",
    "df = pd.read_csv(io.BytesIO(response['Body'].read()))\n",
    "  \n",
    "# # Concatena todos os DataFrames em um só\n",
    "# df_final = pd.concat(df, ignore_index=True)\n",
    "df['data_hora'] = pd.to_datetime(df['data_hora'])"
   ]
  },
  {
   "cell_type": "code",
   "execution_count": null,
   "id": "659813ad",
   "metadata": {},
   "outputs": [],
   "source": [
    "# Configurações do Spark\n",
    "conf = SparkConf()\n",
    "conf.set('spark.jars.packages', 'org.apache.hadoop:hadoop-aws:3.3.4,com.amazonaws:aws-java-sdk-bundle:1.11.901')\n",
    "conf.set('spark.hadoop.fs.s3a.aws.credentials.provider', 'com.amazonaws.auth.InstanceProfileCredentialsProvider')\n",
    "\n",
    "# Criar sessão Spark\n",
    "spark = SparkSession.builder.config(conf=conf).getOrCreate()\n",
    "\n",
    "TabelaCompleta = spark.createDataFrame(df)\n",
    "\n",
    "df_camera = TabelaCompleta.filter(\n",
    "    (col(\"fk_sensor\") == 1)\n",
    ").filter(col(\"valor\").isNotNull())\n",
    "\n",
    "\n",
    "df_camera_filtrado = df_camera.withColumn(\"data_hora\", to_timestamp(col(\"data_hora\"), \"yyyy-MM-dd HH:mm:ss\")) \\\n",
    "    .withColumn(\"qtde_pessoas\", col(\"valor\").cast(IntegerType())) \\\n",
    "    .withColumn(\"fk_upa\", col(\"fk_upa\").cast(IntegerType())) \\\n",
    "    .drop(\"valor\") \\\n",
    "    .drop(\"fk_unid_medida\") \\\n",
    "    .drop(\"fk_paciente\") \\\n",
    "    .drop(\"fk_sensor\")"
   ]
  },
  {
   "cell_type": "code",
   "execution_count": null,
   "id": "cb16988c",
   "metadata": {},
   "outputs": [],
   "source": [
    "df_camera_filtrado = df_camera_filtrado.filter(\n",
    "        (col(\"qtde_pessoas\") >= 0) & (col(\"qtde_pessoas\") <= 200)\n",
    "    ) \\\n",
    "    .orderBy(col(\"fk_upa\"))"
   ]
  },
  {
   "cell_type": "code",
   "execution_count": null,
   "id": "41349ec0",
   "metadata": {},
   "outputs": [],
   "source": [
    "df_final_semanal = df_camera_filtrado.withColumn(\"data\", to_date(col(\"data_hora\"))) \\\n",
    "                .drop(\"data_hora\")  \n",
    "\n",
    "df_final_semanal = df_final_semanal.groupBy('data', 'fk_upa').agg(\n",
    "    avg('qtde_pessoas').cast(IntegerType()).alias('media_pessoas')\n",
    ").orderBy('fk_upa', 'data')\n",
    "\n",
    "\n",
    "df_final_diario = df_camera_filtrado.withColumn(\"data\", to_date(col(\"data_hora\"))) \\\n",
    "                .withColumn(\"hora\", hour(col(\"data_hora\"))) \\\n",
    "                .drop(\"data_hora\")                \n",
    "\n",
    "df_final_diario = df_final_diario.groupBy('data', 'hora', 'fk_upa').agg(\n",
    "    avg('qtde_pessoas').cast(IntegerType()).alias('media_pessoas')\n",
    ").orderBy('fk_upa', 'data', 'hora')\n"
   ]
  },
  {
   "cell_type": "code",
   "execution_count": null,
   "id": "a93bfafb",
   "metadata": {},
   "outputs": [],
   "source": [
    "from datetime import datetime, timezone\n",
    "\n",
    "csv_buffer = io.StringIO()\n",
    "df.to_csv(csv_buffer, index=False)\n",
    "\n",
    "key_trusted_data = datetime.now().strftime('%Y-%m-%d-%HH%MM%SS')\n",
    "\n",
    "# Envia para o S3\n",
    "s3_client.put_object(\n",
    "    Bucket=output_bucket,\n",
    "    Key=key_trusted_data,\n",
    "    Body=csv_buffer.getvalue()\n",
    ")"
   ]
  }
 ],
 "metadata": {
  "kernelspec": {
   "display_name": "Python 3 (ipykernel)",
   "language": "python",
   "name": "python3"
  },
  "language_info": {
   "codemirror_mode": {
    "name": "ipython",
    "version": 3
   },
   "file_extension": ".py",
   "mimetype": "text/x-python",
   "name": "python",
   "nbconvert_exporter": "python",
   "pygments_lexer": "ipython3",
   "version": "3.7.16"
  }
 },
 "nbformat": 4,
 "nbformat_minor": 5
}

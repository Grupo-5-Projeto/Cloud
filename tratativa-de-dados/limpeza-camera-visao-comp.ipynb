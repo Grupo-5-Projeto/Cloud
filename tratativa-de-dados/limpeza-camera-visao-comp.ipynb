{
 "cells": [
  {
   "cell_type": "code",
   "execution_count": 1,
   "id": "c5a1e224",
   "metadata": {},
   "outputs": [
    {
     "name": "stdout",
     "output_type": "stream",
     "text": [
      ":: loading settings :: url = jar:file:/usr/local/lib/python3.7/site-packages/pyspark/jars/ivy-2.5.1.jar!/org/apache/ivy/core/settings/ivysettings.xml\n"
     ]
    },
    {
     "name": "stderr",
     "output_type": "stream",
     "text": [
      "Ivy Default Cache set to: /root/.ivy2/cache\n",
      "The jars for the packages stored in: /root/.ivy2/jars\n",
      "org.apache.hadoop#hadoop-aws added as a dependency\n",
      "com.amazonaws#aws-java-sdk-bundle added as a dependency\n",
      ":: resolving dependencies :: org.apache.spark#spark-submit-parent-05d894ff-e912-4281-9250-71d7100521b6;1.0\n",
      "\tconfs: [default]\n",
      "\tfound org.apache.hadoop#hadoop-aws;3.3.4 in central\n",
      "\tfound com.amazonaws#aws-java-sdk-bundle;1.12.262 in central\n",
      "\tfound org.wildfly.openssl#wildfly-openssl;1.0.7.Final in central\n",
      ":: resolution report :: resolve 512ms :: artifacts dl 26ms\n",
      "\t:: modules in use:\n",
      "\tcom.amazonaws#aws-java-sdk-bundle;1.12.262 from central in [default]\n",
      "\torg.apache.hadoop#hadoop-aws;3.3.4 from central in [default]\n",
      "\torg.wildfly.openssl#wildfly-openssl;1.0.7.Final from central in [default]\n",
      "\t:: evicted modules:\n",
      "\tcom.amazonaws#aws-java-sdk-bundle;1.11.901 by [com.amazonaws#aws-java-sdk-bundle;1.12.262] in [default]\n",
      "\t---------------------------------------------------------------------\n",
      "\t|                  |            modules            ||   artifacts   |\n",
      "\t|       conf       | number| search|dwnlded|evicted|| number|dwnlded|\n",
      "\t---------------------------------------------------------------------\n",
      "\t|      default     |   4   |   0   |   0   |   1   ||   3   |   0   |\n",
      "\t---------------------------------------------------------------------\n",
      ":: retrieving :: org.apache.spark#spark-submit-parent-05d894ff-e912-4281-9250-71d7100521b6\n",
      "\tconfs: [default]\n",
      "\t0 artifacts copied, 3 already retrieved (0kB/8ms)\n",
      "25/04/28 20:57:43 WARN NativeCodeLoader: Unable to load native-hadoop library for your platform... using builtin-java classes where applicable\n",
      "Setting default log level to \"WARN\".\n",
      "To adjust logging level use sc.setLogLevel(newLevel). For SparkR, use setLogLevel(newLevel).\n",
      "/usr/local/lib/python3.7/site-packages/pyspark/context.py:317: FutureWarning: Python 3.7 support is deprecated in Spark 3.4.\n",
      "  warnings.warn(\"Python 3.7 support is deprecated in Spark 3.4.\", FutureWarning)\n",
      "25/04/28 20:57:51 WARN MetricsConfig: Cannot locate configuration: tried hadoop-metrics2-s3a-file-system.properties,hadoop-metrics2.properties\n",
      "[Stage 1:>                                                          (0 + 1) / 1]\r"
     ]
    },
    {
     "name": "stdout",
     "output_type": "stream",
     "text": [
      "+---------+-------------------+-----------+------+\n",
      "|id_camera|          data_hora|qtd_pessoas|fk_upa|\n",
      "+---------+-------------------+-----------+------+\n",
      "|        1|2025-04-26 21:04:36|      110.0|     1|\n",
      "|        2|2025-04-26 21:09:36|      113.0|     1|\n",
      "|        3|2025-04-26 21:14:36|      111.0|     1|\n",
      "|        4|2025-04-26 21:19:36|      115.0|     1|\n",
      "|        5|2025-04-26 21:24:36|      118.0|     1|\n",
      "|        6|2025-04-26 21:29:36|      119.0|     1|\n",
      "|        7|2025-04-26 21:34:36|      117.0|     1|\n",
      "|        8|2025-04-26 21:39:36|      116.0|     1|\n",
      "|        9|2025-04-26 21:44:36|      116.0|     1|\n",
      "|       10|2025-04-26 21:49:36|      117.0|     1|\n",
      "|       11|2025-04-26 21:54:36|      116.0|     1|\n",
      "|       12|2025-04-26 21:59:36|       null|     1|\n",
      "|       13|2025-04-26 22:04:36|      118.0|     1|\n",
      "|       14|2025-04-26 22:09:36|      117.0|     1|\n",
      "|       15|2025-04-26 22:14:36|      115.0|     1|\n",
      "|       16|2025-04-26 22:19:36|      112.0|     1|\n",
      "|       17|2025-04-26 22:24:36|      110.0|     1|\n",
      "|       18|2025-04-26 22:29:36|      115.0|     1|\n",
      "|       19|2025-04-26 22:34:36|      111.0|     1|\n",
      "|       20|2025-04-26 22:39:36|       null|     1|\n",
      "+---------+-------------------+-----------+------+\n",
      "only showing top 20 rows\n",
      "\n"
     ]
    },
    {
     "name": "stderr",
     "output_type": "stream",
     "text": [
      "                                                                                \r"
     ]
    }
   ],
   "source": [
    "from pyspark import SparkConf\n",
    "from pyspark.sql import SparkSession\n",
    "from pyspark.sql.functions import col, avg, when\n",
    "from pyspark.sql.types import DoubleType, IntegerType\n",
    "\n",
    "# Configurações do Spark\n",
    "conf = SparkConf()\n",
    "conf.set('spark.jars.packages', 'org.apache.hadoop:hadoop-aws:3.3.4,com.amazonaws:aws-java-sdk-bundle:1.11.901')\n",
    "conf.set('spark.hadoop.fs.s3a.aws.credentials.provider', 'com.amazonaws.auth.InstanceProfileCredentialsProvider')\n",
    "\n",
    "# Criar sessão Spark\n",
    "spark = SparkSession.builder.config(conf=conf).getOrCreate()\n",
    "\n",
    "# Ler o CSV, já tratando \"NULL\" como valor nulo\n",
    "a = spark.read.option('delimiter', ',') \\\n",
    "              .option('header', 'true') \\\n",
    "              .option('nullValue', 'NULL') \\\n",
    "              .csv('s3a://bucket-raw-upa-connect/camera_visao_comp.csv')\n",
    "\n",
    "# Converter 'valor' para DoubleType e 'fk_paciente' para IntegerType\n",
    "a = a.withColumn('qtd_pessoas', col('qtd_pessoas').cast(DoubleType())) \\\n",
    "     .withColumn('fk_upa', col('fk_upa').cast(IntegerType()))\n",
    "\n",
    "a.show()"
   ]
  },
  {
   "cell_type": "code",
   "execution_count": 2,
   "id": "e559e39e",
   "metadata": {},
   "outputs": [
    {
     "name": "stdout",
     "output_type": "stream",
     "text": [
      "+---------+-------------------+-----------+------+\n",
      "|id_camera|          data_hora|qtd_pessoas|fk_upa|\n",
      "+---------+-------------------+-----------+------+\n",
      "|       12|2025-04-26 21:59:36|       null|     1|\n",
      "|       20|2025-04-26 22:39:36|       null|     1|\n",
      "|       76|2025-04-27 03:19:36|       null|     1|\n",
      "|       95|2025-04-27 04:54:36|       null|     1|\n",
      "|      113|2025-04-27 06:24:36|       null|     1|\n",
      "|      123|2025-04-27 07:14:36|       null|     1|\n",
      "|      126|2025-04-27 07:29:36|       null|     1|\n",
      "|      138|2025-04-27 08:29:36|       null|     1|\n",
      "|      148|2025-04-27 09:19:36|       null|     1|\n",
      "|      162|2025-04-27 10:29:36|       null|     1|\n",
      "|      172|2025-04-27 11:19:36|       null|     1|\n",
      "|      175|2025-04-27 11:34:36|       null|     1|\n",
      "|      183|2025-04-27 12:14:36|       null|     1|\n",
      "|      186|2025-04-27 12:29:36|       null|     1|\n",
      "|      199|2025-04-27 13:34:36|       null|     1|\n",
      "|      202|2025-04-27 13:49:36|       null|     1|\n",
      "|      219|2025-04-27 15:14:36|       null|     1|\n",
      "|      243|2025-04-27 17:14:36|       null|     1|\n",
      "|      259|2025-04-27 18:34:36|       null|     1|\n",
      "|      262|2025-04-27 18:49:36|       null|     1|\n",
      "+---------+-------------------+-----------+------+\n",
      "only showing top 20 rows\n",
      "\n"
     ]
    }
   ],
   "source": [
    "# Nulls\n",
    "nulls = a.filter(col('qtd_pessoas').isNull())\n",
    "\n",
    "nulls.show()"
   ]
  },
  {
   "cell_type": "code",
   "execution_count": 3,
   "id": "bf7251b7",
   "metadata": {},
   "outputs": [
    {
     "name": "stderr",
     "output_type": "stream",
     "text": [
      "[Stage 3:>                                                          (0 + 1) / 1]\r"
     ]
    },
    {
     "name": "stdout",
     "output_type": "stream",
     "text": [
      "+---------+-------------------+------+-----------+\n",
      "|id_camera|          data_hora|fk_upa|qtd_pessoas|\n",
      "+---------+-------------------+------+-----------+\n",
      "|        1|2025-04-26 21:04:36|     1|      110.0|\n",
      "|        2|2025-04-26 21:09:36|     1|      113.0|\n",
      "|        3|2025-04-26 21:14:36|     1|      111.0|\n",
      "|        4|2025-04-26 21:19:36|     1|      115.0|\n",
      "|        5|2025-04-26 21:24:36|     1|      118.0|\n",
      "|        6|2025-04-26 21:29:36|     1|      119.0|\n",
      "|        7|2025-04-26 21:34:36|     1|      117.0|\n",
      "|        8|2025-04-26 21:39:36|     1|      116.0|\n",
      "|        9|2025-04-26 21:44:36|     1|      116.0|\n",
      "|       10|2025-04-26 21:49:36|     1|      117.0|\n",
      "|       11|2025-04-26 21:54:36|     1|      116.0|\n",
      "|       12|2025-04-26 21:59:36|     1|      116.0|\n",
      "|       13|2025-04-26 22:04:36|     1|      118.0|\n",
      "|       14|2025-04-26 22:09:36|     1|      117.0|\n",
      "|       15|2025-04-26 22:14:36|     1|      115.0|\n",
      "|       16|2025-04-26 22:19:36|     1|      112.0|\n",
      "|       17|2025-04-26 22:24:36|     1|      110.0|\n",
      "|       18|2025-04-26 22:29:36|     1|      115.0|\n",
      "|       19|2025-04-26 22:34:36|     1|      111.0|\n",
      "|       20|2025-04-26 22:39:36|     1|      111.0|\n",
      "|       21|2025-04-26 22:44:36|     1|      109.0|\n",
      "|       22|2025-04-26 22:49:36|     1|      110.0|\n",
      "|       23|2025-04-26 22:54:36|     1|      108.0|\n",
      "|       24|2025-04-26 22:59:36|     1|      110.0|\n",
      "|       25|2025-04-26 23:04:36|     1|      113.0|\n",
      "|       26|2025-04-26 23:09:36|     1|      110.0|\n",
      "|       27|2025-04-26 23:14:36|     1|      108.0|\n",
      "|       28|2025-04-26 23:19:36|     1|      105.0|\n",
      "|       29|2025-04-26 23:24:36|     1|      103.0|\n",
      "|       30|2025-04-26 23:29:36|     1|      107.0|\n",
      "+---------+-------------------+------+-----------+\n",
      "only showing top 30 rows\n",
      "\n"
     ]
    },
    {
     "name": "stderr",
     "output_type": "stream",
     "text": [
      "                                                                                \r"
     ]
    }
   ],
   "source": [
    "from pyspark.sql.window import Window\n",
    "from pyspark.sql import functions as F\n",
    "\n",
    "# Definir uma janela ordenada pelo data_hora\n",
    "window_spec = Window.partitionBy('fk_upa').orderBy('data_hora') \\\n",
    "                    .rowsBetween(Window.unboundedPreceding, 0)\n",
    "\n",
    "# Criar uma nova coluna que faz um last() ignorando NULLs\n",
    "a = a.withColumn('valor_preenchido', F.last('qtd_pessoas', ignorenulls=True).over(window_spec))\n",
    "\n",
    "# Substituir a coluna original pelo preenchido\n",
    "a = a.drop('qtd_pessoas').withColumnRenamed('valor_preenchido', 'qtd_pessoas')\n",
    "\n",
    "# Mostrar resultado\n",
    "a.show(30)"
   ]
  },
  {
   "cell_type": "code",
   "execution_count": 4,
   "id": "8dc91b58",
   "metadata": {},
   "outputs": [
    {
     "name": "stdout",
     "output_type": "stream",
     "text": [
      "Outliers encontrados:\n",
      "+---------+---------+------+-----------+\n",
      "|id_camera|data_hora|fk_upa|qtd_pessoas|\n",
      "+---------+---------+------+-----------+\n",
      "+---------+---------+------+-----------+\n",
      "\n"
     ]
    }
   ],
   "source": [
    "# Mostrar possíveis outliers\n",
    "outliers = a.filter(col('qtd_pessoas') < 0)\n",
    "print('Outliers encontrados:')\n",
    "outliers.show()"
   ]
  },
  {
   "cell_type": "code",
   "execution_count": 5,
   "id": "2d95dc57",
   "metadata": {},
   "outputs": [
    {
     "name": "stdout",
     "output_type": "stream",
     "text": [
      "Mediana calculada: 152.0\n",
      "DataFrame final:\n",
      "+---------+-------------------+------+-----------+\n",
      "|id_camera|          data_hora|fk_upa|qtd_pessoas|\n",
      "+---------+-------------------+------+-----------+\n",
      "|        1|2025-04-26 21:04:36|     1|      110.0|\n",
      "|        2|2025-04-26 21:09:36|     1|      113.0|\n",
      "|        3|2025-04-26 21:14:36|     1|      111.0|\n",
      "|        4|2025-04-26 21:19:36|     1|      115.0|\n",
      "|        5|2025-04-26 21:24:36|     1|      118.0|\n",
      "|        6|2025-04-26 21:29:36|     1|      119.0|\n",
      "|        7|2025-04-26 21:34:36|     1|      117.0|\n",
      "|        8|2025-04-26 21:39:36|     1|      116.0|\n",
      "|        9|2025-04-26 21:44:36|     1|      116.0|\n",
      "|       10|2025-04-26 21:49:36|     1|      117.0|\n",
      "|       11|2025-04-26 21:54:36|     1|      116.0|\n",
      "|       12|2025-04-26 21:59:36|     1|      116.0|\n",
      "|       13|2025-04-26 22:04:36|     1|      118.0|\n",
      "|       14|2025-04-26 22:09:36|     1|      117.0|\n",
      "|       15|2025-04-26 22:14:36|     1|      115.0|\n",
      "|       16|2025-04-26 22:19:36|     1|      112.0|\n",
      "|       17|2025-04-26 22:24:36|     1|      110.0|\n",
      "|       18|2025-04-26 22:29:36|     1|      115.0|\n",
      "|       19|2025-04-26 22:34:36|     1|      111.0|\n",
      "|       20|2025-04-26 22:39:36|     1|      111.0|\n",
      "|       21|2025-04-26 22:44:36|     1|      109.0|\n",
      "|       22|2025-04-26 22:49:36|     1|      110.0|\n",
      "|       23|2025-04-26 22:54:36|     1|      108.0|\n",
      "|       24|2025-04-26 22:59:36|     1|      110.0|\n",
      "|       25|2025-04-26 23:04:36|     1|      113.0|\n",
      "|       26|2025-04-26 23:09:36|     1|      110.0|\n",
      "|       27|2025-04-26 23:14:36|     1|      108.0|\n",
      "|       28|2025-04-26 23:19:36|     1|      105.0|\n",
      "|       29|2025-04-26 23:24:36|     1|      103.0|\n",
      "|       30|2025-04-26 23:29:36|     1|      107.0|\n",
      "|       31|2025-04-26 23:34:36|     1|      106.0|\n",
      "|       32|2025-04-26 23:39:36|     1|      102.0|\n",
      "|       33|2025-04-26 23:44:36|     1|      100.0|\n",
      "|       34|2025-04-26 23:49:36|     1|      102.0|\n",
      "|       35|2025-04-26 23:54:36|     1|      107.0|\n",
      "|       36|2025-04-26 23:59:36|     1|      102.0|\n",
      "|       37|2025-04-27 00:04:36|     1|      103.0|\n",
      "|       38|2025-04-27 00:09:36|     1|      106.0|\n",
      "|       39|2025-04-27 00:14:36|     1|      106.0|\n",
      "|       40|2025-04-27 00:19:36|     1|      106.0|\n",
      "|       41|2025-04-27 00:24:36|     1|      107.0|\n",
      "|       42|2025-04-27 00:29:36|     1|      106.0|\n",
      "|       43|2025-04-27 00:34:36|     1|      104.0|\n",
      "|       44|2025-04-27 00:39:36|     1|      102.0|\n",
      "|       45|2025-04-27 00:44:36|     1|      101.0|\n",
      "|       46|2025-04-27 00:49:36|     1|      104.0|\n",
      "|       47|2025-04-27 00:54:36|     1|      104.0|\n",
      "|       48|2025-04-27 00:59:36|     1|      104.0|\n",
      "|       49|2025-04-27 01:04:36|     1|      105.0|\n",
      "|       50|2025-04-27 01:09:36|     1|      109.0|\n",
      "|       51|2025-04-27 01:14:36|     1|      104.0|\n",
      "|       52|2025-04-27 01:19:36|     1|      104.0|\n",
      "|       53|2025-04-27 01:24:36|     1|      103.0|\n",
      "|       54|2025-04-27 01:29:36|     1|      106.0|\n",
      "|       55|2025-04-27 01:34:36|     1|      106.0|\n",
      "|       56|2025-04-27 01:39:36|     1|      106.0|\n",
      "|       57|2025-04-27 01:44:36|     1|      107.0|\n",
      "|       58|2025-04-27 01:49:36|     1|      108.0|\n",
      "|       59|2025-04-27 01:54:36|     1|      108.0|\n",
      "|       60|2025-04-27 01:59:36|     1|      104.0|\n",
      "|       61|2025-04-27 02:04:36|     1|      102.0|\n",
      "|       62|2025-04-27 02:09:36|     1|       99.0|\n",
      "|       63|2025-04-27 02:14:36|     1|       99.0|\n",
      "|       64|2025-04-27 02:19:36|     1|      100.0|\n",
      "|       65|2025-04-27 02:24:36|     1|      102.0|\n",
      "|       66|2025-04-27 02:29:36|     1|      107.0|\n",
      "|       67|2025-04-27 02:34:36|     1|      104.0|\n",
      "|       68|2025-04-27 02:39:36|     1|      109.0|\n",
      "|       69|2025-04-27 02:44:36|     1|      105.0|\n",
      "|       70|2025-04-27 02:49:36|     1|      101.0|\n",
      "+---------+-------------------+------+-----------+\n",
      "only showing top 70 rows\n",
      "\n"
     ]
    }
   ],
   "source": [
    "mediana = a.approxQuantile(\"qtd_pessoas\", [0.5], 0.01)[0]\n",
    "print(f'Mediana calculada: {mediana}')\n",
    "\n",
    "# Substituir os outliers pela mediana\n",
    "a = a.withColumn('qtd_pessoas', \n",
    "                when((col('qtd_pessoas') < 0), mediana)\n",
    "                .otherwise(col('qtd_pessoas')))\n",
    "\n",
    "# Mostrar resultado final (sem nulos e sem outliers)\n",
    "print('DataFrame final:')\n",
    "a.show(70)"
   ]
  },
  {
   "cell_type": "code",
   "execution_count": 6,
   "id": "0ee92bfa",
   "metadata": {},
   "outputs": [
    {
     "name": "stderr",
     "output_type": "stream",
     "text": [
      "25/04/28 20:58:10 WARN AbstractS3ACommitterFactory: Using standard FileOutputCommitter to commit work. This is slow and potentially unsafe.\n",
      "25/04/28 20:58:11 WARN AbstractS3ACommitterFactory: Using standard FileOutputCommitter to commit work. This is slow and potentially unsafe.\n",
      "                                                                                \r"
     ]
    }
   ],
   "source": [
    "a.coalesce(1) \\\n",
    "    .write \\\n",
    "    .option('header', 'true') \\\n",
    "    .mode('overwrite') \\\n",
    "    .csv('s3a://bucket-trusted-upa-connect/camera_visao_comp_tratado.csv')\n",
    "\n",
    "spark.stop()"
   ]
  }
 ],
 "metadata": {
  "kernelspec": {
   "display_name": "Python 3 (ipykernel)",
   "language": "python",
   "name": "python3"
  },
  "language_info": {
   "codemirror_mode": {
    "name": "ipython",
    "version": 3
   },
   "file_extension": ".py",
   "mimetype": "text/x-python",
   "name": "python",
   "nbconvert_exporter": "python",
   "pygments_lexer": "ipython3",
   "version": "3.7.16"
  }
 },
 "nbformat": 4,
 "nbformat_minor": 5
}

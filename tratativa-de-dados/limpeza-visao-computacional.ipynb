{
 "cells": [
  {
   "cell_type": "code",
   "execution_count": 12,
   "id": "c5a1e224",
   "metadata": {},
   "outputs": [
    {
     "name": "stdout",
     "output_type": "stream",
     "text": [
      "+---------+-------------------+-----------+------+\n",
      "|id_camera|          data_hora|qtd_pessoas|fk_upa|\n",
      "+---------+-------------------+-----------+------+\n",
      "|        1|2025-04-07 18:29:28|      193.0|     1|\n",
      "|        2|2025-04-07 18:29:28|      234.0|     1|\n",
      "|        3|2025-04-07 18:29:28|      238.0|     1|\n",
      "|        4|2025-04-07 18:29:28|      241.0|     1|\n",
      "|        5|2025-04-07 18:29:28|      235.0|     1|\n",
      "|        6|2025-04-07 18:29:28|      245.0|     1|\n",
      "|        7|2025-04-07 18:29:28|      241.0|     1|\n",
      "|        8|2025-04-07 18:29:28|      239.0|     1|\n",
      "|        9|2025-04-07 18:29:28|      239.0|     1|\n",
      "|       10|2025-04-07 18:29:28|      240.0|     1|\n",
      "|       11|2025-04-07 18:29:28|      240.0|     1|\n",
      "|       12|2025-04-07 18:29:29|      240.0|     1|\n",
      "|       13|2025-04-07 18:29:29|      239.0|     1|\n",
      "|       14|2025-04-07 18:29:29|      240.0|     1|\n",
      "|       15|2025-04-07 18:29:30|      240.0|     1|\n",
      "|       16|2025-04-07 18:29:30|      200.0|     1|\n",
      "|       17|2025-04-07 18:29:30|      229.0|     1|\n",
      "|       18|2025-04-07 18:29:30|      235.0|     1|\n",
      "|       19|2025-04-07 18:29:30|      245.0|     1|\n",
      "|       20|2025-04-07 18:29:30|      243.0|     1|\n",
      "+---------+-------------------+-----------+------+\n",
      "only showing top 20 rows\n",
      "\n"
     ]
    }
   ],
   "source": [
    "from pyspark import SparkConf\n",
    "from pyspark.sql import SparkSession\n",
    "from pyspark.sql.functions import col, avg, when, to_date, dayofweek\n",
    "from pyspark.sql.types import DoubleType, IntegerType\n",
    "\n",
    "# Configurações do Spark\n",
    "conf = SparkConf()\n",
    "conf.set('spark.jars.packages', 'org.apache.hadoop:hadoop-aws:3.3.4,com.amazonaws:aws-java-sdk-bundle:1.11.901')\n",
    "conf.set('spark.hadoop.fs.s3a.aws.credentials.provider', 'com.amazonaws.auth.InstanceProfileCredentialsProvider')\n",
    "\n",
    "# Criar sessão Spark\n",
    "spark = SparkSession.builder.config(conf=conf).getOrCreate()\n",
    "\n",
    "# Ler o CSV, já tratando \"NULL\" como valor nulo\n",
    "a = spark.read.option('delimiter', ',') \\\n",
    "              .option('header', 'true') \\\n",
    "              .option('nullValue', 'NULL') \\\n",
    "              .csv('s3a://bucket-raw-upa-connect-eduardo/visao_computacional.csv')\n",
    "\n",
    "# Converter 'valor' para DoubleType e 'fk_paciente' para IntegerType\n",
    "a = a.withColumn('qtd_pessoas', col('qtd_pessoas').cast(DoubleType())) \\\n",
    "     .withColumn('fk_upa', col('fk_upa').cast(IntegerType()))\n",
    "\n",
    "a.show()"
   ]
  },
  {
   "cell_type": "code",
   "execution_count": 3,
   "id": "e559e39e",
   "metadata": {},
   "outputs": [
    {
     "name": "stdout",
     "output_type": "stream",
     "text": [
      "+---------+---------+-----------+------+\n",
      "|id_camera|data_hora|qtd_pessoas|fk_upa|\n",
      "+---------+---------+-----------+------+\n",
      "+---------+---------+-----------+------+\n",
      "\n"
     ]
    }
   ],
   "source": [
    "# Nulls\n",
    "nulls = a.filter(col('qtd_pessoas').isNull())\n",
    "\n",
    "nulls.show()"
   ]
  },
  {
   "cell_type": "code",
   "execution_count": 7,
   "id": "bf7251b7",
   "metadata": {},
   "outputs": [
    {
     "name": "stdout",
     "output_type": "stream",
     "text": [
      "+---------+-------------------+------+-----------+\n",
      "|id_camera|          data_hora|fk_upa|qtd_pessoas|\n",
      "+---------+-------------------+------+-----------+\n",
      "|        1|2025-04-07 18:29:28|     1|      193.0|\n",
      "|        2|2025-04-07 18:29:28|     1|      234.0|\n",
      "|        3|2025-04-07 18:29:28|     1|      238.0|\n",
      "|        4|2025-04-07 18:29:28|     1|      241.0|\n",
      "|        5|2025-04-07 18:29:28|     1|      235.0|\n",
      "|        6|2025-04-07 18:29:28|     1|      245.0|\n",
      "|        7|2025-04-07 18:29:28|     1|      241.0|\n",
      "|        8|2025-04-07 18:29:28|     1|      239.0|\n",
      "|        9|2025-04-07 18:29:28|     1|      239.0|\n",
      "|       10|2025-04-07 18:29:28|     1|      240.0|\n",
      "|       11|2025-04-07 18:29:28|     1|      240.0|\n",
      "|       12|2025-04-07 18:29:29|     1|      240.0|\n",
      "|       13|2025-04-07 18:29:29|     1|      239.0|\n",
      "|       14|2025-04-07 18:29:29|     1|      240.0|\n",
      "|       15|2025-04-07 18:29:30|     1|      240.0|\n",
      "|       16|2025-04-07 18:29:30|     1|      200.0|\n",
      "|       17|2025-04-07 18:29:30|     1|      229.0|\n",
      "|       18|2025-04-07 18:29:30|     1|      235.0|\n",
      "|       19|2025-04-07 18:29:30|     1|      245.0|\n",
      "|       20|2025-04-07 18:29:30|     1|      243.0|\n",
      "|       21|2025-04-07 18:29:30|     1|      233.0|\n",
      "|       22|2025-04-07 18:29:30|     1|      241.0|\n",
      "|       23|2025-04-07 18:29:30|     1|      239.0|\n",
      "|       24|2025-04-07 18:29:30|     1|      239.0|\n",
      "|       25|2025-04-07 18:29:30|     1|      240.0|\n",
      "|       26|2025-04-07 18:29:30|     1|      240.0|\n",
      "|       27|2025-04-07 18:29:30|     1|      240.0|\n",
      "|       28|2025-04-07 18:29:31|     1|      240.0|\n",
      "|       29|2025-04-07 18:29:31|     1|      239.0|\n",
      "|       30|2025-04-07 18:29:31|     1|      240.0|\n",
      "+---------+-------------------+------+-----------+\n",
      "only showing top 30 rows\n",
      "\n"
     ]
    },
    {
     "name": "stderr",
     "output_type": "stream",
     "text": [
      "                                                                                \r"
     ]
    }
   ],
   "source": [
    "from pyspark.sql.window import Window\n",
    "from pyspark.sql import functions as F\n",
    "\n",
    "# Definir uma janela ordenada pelo data_hora\n",
    "window_spec = Window.partitionBy('fk_upa').orderBy('data_hora') \\\n",
    "                    .rowsBetween(Window.unboundedPreceding, 0)\n",
    "\n",
    "# Criar uma nova coluna que faz um last() ignorando NULLs\n",
    "a = a.withColumn('valor_preenchido', F.last('qtd_pessoas', ignorenulls=True).over(window_spec))\n",
    "\n",
    "# Substituir a coluna original pelo preenchido\n",
    "a = a.drop('qtd_pessoas').withColumnRenamed('valor_preenchido', 'qtd_pessoas')\n",
    "\n",
    "# Mostrar resultado\n",
    "a.show(30)"
   ]
  },
  {
   "cell_type": "code",
   "execution_count": 5,
   "id": "8dc91b58",
   "metadata": {},
   "outputs": [
    {
     "name": "stdout",
     "output_type": "stream",
     "text": [
      "Outliers encontrados:\n",
      "+---------+---------+-----------+------+\n",
      "|id_camera|data_hora|qtd_pessoas|fk_upa|\n",
      "+---------+---------+-----------+------+\n",
      "+---------+---------+-----------+------+\n",
      "\n"
     ]
    }
   ],
   "source": [
    "# Mostrar possíveis outliers\n",
    "outliers = a.filter(col('qtd_pessoas') < 0)\n",
    "print('Outliers encontrados:')\n",
    "outliers.show()"
   ]
  },
  {
   "cell_type": "code",
   "execution_count": 16,
   "id": "2d95dc57",
   "metadata": {},
   "outputs": [
    {
     "name": "stdout",
     "output_type": "stream",
     "text": [
      "Mediana calculada: 47.0\n",
      "DataFrame final:\n",
      "+----------+-----------------+------------------+\n",
      "|       dia|numero_dia_semana|     media_pessoas|\n",
      "+----------+-----------------+------------------+\n",
      "|2025-04-07|                2|236.86486486486487|\n",
      "|2025-04-21|                2|45.166666666666664|\n",
      "|2025-04-22|                3| 67.72222222222223|\n",
      "|2025-04-23|                4|35.851851851851855|\n",
      "|2025-04-24|                5|              34.0|\n",
      "|2025-04-25|                6| 35.27777777777778|\n",
      "|2025-04-26|                7|36.888888888888886|\n",
      "|2025-04-27|                1|33.888888888888886|\n",
      "+----------+-----------------+------------------+\n",
      "\n"
     ]
    }
   ],
   "source": [
    "mediana = a.approxQuantile(\"qtd_pessoas\", [0.5], 0.01)[0]\n",
    "print(f'Mediana calculada: {mediana}')\n",
    "\n",
    "# Substituir os outliers pela mediana\n",
    "a = a.withColumn('qtd_pessoas', \n",
    "                when((col('qtd_pessoas') < 0), mediana)\n",
    "                .otherwise(col('qtd_pessoas')))\n",
    "\n",
    "a = a.withColumn('dia', to_date('data_hora'))\n",
    "a = a.withColumn('numero_dia_semana', dayofweek('data_hora'))\n",
    "\n",
    "\n",
    "novo_df = a.groupBy('dia', 'numero_dia_semana').agg(\n",
    "    avg('qtd_pessoas').alias('media_pessoas')\n",
    ").orderBy('dia')\n",
    "\n",
    "\n",
    "# Mostrar resultado final (sem nulos e sem outliers)\n",
    "print('DataFrame final:')\n",
    "novo_df.show()"
   ]
  },
  {
   "cell_type": "code",
   "execution_count": 17,
   "id": "0ee92bfa",
   "metadata": {},
   "outputs": [
    {
     "name": "stderr",
     "output_type": "stream",
     "text": [
      "25/04/29 01:13:34 WARN AbstractS3ACommitterFactory: Using standard FileOutputCommitter to commit work. This is slow and potentially unsafe.\n",
      "25/04/29 01:13:35 WARN AbstractS3ACommitterFactory: Using standard FileOutputCommitter to commit work. This is slow and potentially unsafe.\n",
      "                                                                                \r"
     ]
    }
   ],
   "source": [
    "novo_df.coalesce(1).write.option('header', 'true').mode('overwrite').csv('s3a://bucket-trusted-upa-connect-eduardo/camera_visao_comp_tratado.csv')\n",
    "\n",
    "spark.stop()"
   ]
  },
  {
   "cell_type": "code",
   "execution_count": null,
   "id": "471f9795",
   "metadata": {},
   "outputs": [],
   "source": []
  }
 ],
 "metadata": {
  "kernelspec": {
   "display_name": "Python 3 (ipykernel)",
   "language": "python",
   "name": "python3"
  },
  "language_info": {
   "codemirror_mode": {
    "name": "ipython",
    "version": 3
   },
   "file_extension": ".py",
   "mimetype": "text/x-python",
   "name": "python",
   "nbconvert_exporter": "python",
   "pygments_lexer": "ipython3",
   "version": "3.7.16"
  }
 },
 "nbformat": 4,
 "nbformat_minor": 5
}

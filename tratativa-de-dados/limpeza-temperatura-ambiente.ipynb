{
 "cells": [
  {
   "cell_type": "code",
   "execution_count": 1,
   "id": "752c0dd0",
   "metadata": {},
   "outputs": [
    {
     "name": "stdout",
     "output_type": "stream",
     "text": [
      ":: loading settings :: url = jar:file:/usr/local/lib/python3.7/site-packages/pyspark/jars/ivy-2.5.1.jar!/org/apache/ivy/core/settings/ivysettings.xml\n"
     ]
    },
    {
     "name": "stderr",
     "output_type": "stream",
     "text": [
      "Ivy Default Cache set to: /root/.ivy2/cache\n",
      "The jars for the packages stored in: /root/.ivy2/jars\n",
      "org.apache.hadoop#hadoop-aws added as a dependency\n",
      "com.amazonaws#aws-java-sdk-bundle added as a dependency\n",
      ":: resolving dependencies :: org.apache.spark#spark-submit-parent-e4570040-22aa-4375-a301-0bd9977b2a16;1.0\n",
      "\tconfs: [default]\n",
      "\tfound org.apache.hadoop#hadoop-aws;3.3.4 in central\n",
      "\tfound com.amazonaws#aws-java-sdk-bundle;1.12.262 in central\n",
      "\tfound org.wildfly.openssl#wildfly-openssl;1.0.7.Final in central\n",
      ":: resolution report :: resolve 552ms :: artifacts dl 35ms\n",
      "\t:: modules in use:\n",
      "\tcom.amazonaws#aws-java-sdk-bundle;1.12.262 from central in [default]\n",
      "\torg.apache.hadoop#hadoop-aws;3.3.4 from central in [default]\n",
      "\torg.wildfly.openssl#wildfly-openssl;1.0.7.Final from central in [default]\n",
      "\t:: evicted modules:\n",
      "\tcom.amazonaws#aws-java-sdk-bundle;1.11.901 by [com.amazonaws#aws-java-sdk-bundle;1.12.262] in [default]\n",
      "\t---------------------------------------------------------------------\n",
      "\t|                  |            modules            ||   artifacts   |\n",
      "\t|       conf       | number| search|dwnlded|evicted|| number|dwnlded|\n",
      "\t---------------------------------------------------------------------\n",
      "\t|      default     |   4   |   0   |   0   |   1   ||   3   |   0   |\n",
      "\t---------------------------------------------------------------------\n",
      ":: retrieving :: org.apache.spark#spark-submit-parent-e4570040-22aa-4375-a301-0bd9977b2a16\n",
      "\tconfs: [default]\n",
      "\t0 artifacts copied, 3 already retrieved (0kB/15ms)\n",
      "25/04/28 20:35:02 WARN NativeCodeLoader: Unable to load native-hadoop library for your platform... using builtin-java classes where applicable\n",
      "Setting default log level to \"WARN\".\n",
      "To adjust logging level use sc.setLogLevel(newLevel). For SparkR, use setLogLevel(newLevel).\n",
      "/usr/local/lib/python3.7/site-packages/pyspark/context.py:317: FutureWarning: Python 3.7 support is deprecated in Spark 3.4.\n",
      "  warnings.warn(\"Python 3.7 support is deprecated in Spark 3.4.\", FutureWarning)\n",
      "25/04/28 20:35:15 WARN MetricsConfig: Cannot locate configuration: tried hadoop-metrics2-s3a-file-system.properties,hadoop-metrics2.properties\n",
      "                                                                                \r"
     ]
    },
    {
     "name": "stdout",
     "output_type": "stream",
     "text": [
      "+-----------------------+-------------------+-----+------+\n",
      "|id_temperatura_ambiente|          data_hora|valor|fk_upa|\n",
      "+-----------------------+-------------------+-----+------+\n",
      "|                      1|2025-04-26 21:04:36| 22.7|     1|\n",
      "|                      2|2025-04-26 21:09:36| 22.5|     1|\n",
      "|                      3|2025-04-26 21:14:36| 22.4|     1|\n",
      "|                      4|2025-04-26 21:19:36| 22.5|     1|\n",
      "|                      5|2025-04-26 21:24:36| 22.5|     1|\n",
      "|                      6|2025-04-26 21:29:36| 22.5|     1|\n",
      "|                      7|2025-04-26 21:34:36| 22.5|     1|\n",
      "|                      8|2025-04-26 21:39:36| 22.4|     1|\n",
      "|                      9|2025-04-26 21:44:36| 22.3|     1|\n",
      "|                     10|2025-04-26 21:49:36| 22.2|     1|\n",
      "|                     11|2025-04-26 21:54:36| 22.4|     1|\n",
      "|                     12|2025-04-26 21:59:36| 22.5|     1|\n",
      "|                     13|2025-04-26 22:04:36| 22.5|     1|\n",
      "|                     14|2025-04-26 22:09:36| 22.5|     1|\n",
      "|                     15|2025-04-26 22:14:36| 22.6|     1|\n",
      "|                     16|2025-04-26 22:19:36| 22.4|     1|\n",
      "|                     17|2025-04-26 22:24:36| 22.3|     1|\n",
      "|                     18|2025-04-26 22:29:36| 22.1|     1|\n",
      "|                     19|2025-04-26 22:34:36| 22.1|     1|\n",
      "|                     20|2025-04-26 22:39:36| 22.2|     1|\n",
      "+-----------------------+-------------------+-----+------+\n",
      "only showing top 20 rows\n",
      "\n"
     ]
    }
   ],
   "source": [
    "from pyspark import SparkConf\n",
    "from pyspark.sql import SparkSession\n",
    "from pyspark.sql.functions import col, avg, when\n",
    "from pyspark.sql.types import DoubleType, IntegerType\n",
    "\n",
    "# Configurações do Spark\n",
    "conf = SparkConf()\n",
    "conf.set('spark.jars.packages', 'org.apache.hadoop:hadoop-aws:3.3.4,com.amazonaws:aws-java-sdk-bundle:1.11.901')\n",
    "conf.set('spark.hadoop.fs.s3a.aws.credentials.provider', 'com.amazonaws.auth.InstanceProfileCredentialsProvider')\n",
    "\n",
    "# Criar sessão Spark\n",
    "spark = SparkSession.builder.config(conf=conf).getOrCreate()\n",
    "\n",
    "# Ler o CSV, já tratando \"NULL\" como valor nulo\n",
    "a = spark.read.option('delimiter', ',') \\\n",
    "              .option('header', 'true') \\\n",
    "              .option('nullValue', 'null') \\\n",
    "              .csv('s3a://bucket-raw-upa-connect/temperatura_ambiente.csv')\n",
    "\n",
    "# Converter 'valor' para DoubleType e 'fk_upa' para IntegerType\n",
    "a = a.withColumn('valor', col('valor').cast(DoubleType())) \\\n",
    "     .withColumn('fk_upa', col('fk_upa').cast(IntegerType()))\n",
    "\n",
    "a.show()"
   ]
  },
  {
   "cell_type": "code",
   "execution_count": 2,
   "id": "5dea7237",
   "metadata": {},
   "outputs": [
    {
     "name": "stdout",
     "output_type": "stream",
     "text": [
      "+-----------------------+-------------------+-----+------+\n",
      "|id_temperatura_ambiente|          data_hora|valor|fk_upa|\n",
      "+-----------------------+-------------------+-----+------+\n",
      "|                     21|2025-04-26 22:44:36| null|     1|\n",
      "|                    100|2025-04-27 05:19:36| null|     1|\n",
      "|                    195|2025-04-27 13:14:36| null|     1|\n",
      "|                    196|2025-04-27 13:19:36| null|     1|\n",
      "|                    197|2025-04-27 13:24:36| null|     1|\n",
      "|                    198|2025-04-27 13:29:36| null|     1|\n",
      "|                    199|2025-04-27 13:34:36| null|     1|\n",
      "|                    200|2025-04-27 13:39:36| null|     1|\n",
      "|                    222|2025-04-27 15:29:36| null|     1|\n",
      "|                    285|2025-04-27 20:44:36| null|     1|\n",
      "|                    432|2025-04-27 08:59:36| null|     2|\n",
      "|                    439|2025-04-27 09:34:36| null|     2|\n",
      "|                    487|2025-04-27 13:34:36| null|     2|\n",
      "|                    515|2025-04-27 15:54:36| null|     2|\n",
      "|                    524|2025-04-27 16:39:36| null|     2|\n",
      "|                    525|2025-04-27 16:44:36| null|     2|\n",
      "|                    541|2025-04-27 18:04:36| null|     2|\n",
      "|                    542|2025-04-27 18:09:36| null|     2|\n",
      "|                    548|2025-04-27 18:39:36| null|     2|\n",
      "|                    584|2025-04-26 21:39:36| null|     3|\n",
      "+-----------------------+-------------------+-----+------+\n",
      "only showing top 20 rows\n",
      "\n"
     ]
    }
   ],
   "source": [
    "# Nulls\n",
    "nulls = a.filter(col('valor').isNull())\n",
    "\n",
    "nulls.show()"
   ]
  },
  {
   "cell_type": "code",
   "execution_count": 3,
   "id": "a156ab9e",
   "metadata": {},
   "outputs": [
    {
     "name": "stderr",
     "output_type": "stream",
     "text": [
      "[Stage 3:>                                                          (0 + 1) / 1]\r"
     ]
    },
    {
     "name": "stdout",
     "output_type": "stream",
     "text": [
      "+-----------------------+-------------------+------+-----+\n",
      "|id_temperatura_ambiente|          data_hora|fk_upa|valor|\n",
      "+-----------------------+-------------------+------+-----+\n",
      "|                      1|2025-04-26 21:04:36|     1| 22.7|\n",
      "|                      2|2025-04-26 21:09:36|     1| 22.5|\n",
      "|                      3|2025-04-26 21:14:36|     1| 22.4|\n",
      "|                      4|2025-04-26 21:19:36|     1| 22.5|\n",
      "|                      5|2025-04-26 21:24:36|     1| 22.5|\n",
      "|                      6|2025-04-26 21:29:36|     1| 22.5|\n",
      "|                      7|2025-04-26 21:34:36|     1| 22.5|\n",
      "|                      8|2025-04-26 21:39:36|     1| 22.4|\n",
      "|                      9|2025-04-26 21:44:36|     1| 22.3|\n",
      "|                     10|2025-04-26 21:49:36|     1| 22.2|\n",
      "|                     11|2025-04-26 21:54:36|     1| 22.4|\n",
      "|                     12|2025-04-26 21:59:36|     1| 22.5|\n",
      "|                     13|2025-04-26 22:04:36|     1| 22.5|\n",
      "|                     14|2025-04-26 22:09:36|     1| 22.5|\n",
      "|                     15|2025-04-26 22:14:36|     1| 22.6|\n",
      "|                     16|2025-04-26 22:19:36|     1| 22.4|\n",
      "|                     17|2025-04-26 22:24:36|     1| 22.3|\n",
      "|                     18|2025-04-26 22:29:36|     1| 22.1|\n",
      "|                     19|2025-04-26 22:34:36|     1| 22.1|\n",
      "|                     20|2025-04-26 22:39:36|     1| 22.2|\n",
      "|                     21|2025-04-26 22:44:36|     1| 22.2|\n",
      "|                     22|2025-04-26 22:49:36|     1| 22.9|\n",
      "|                     23|2025-04-26 22:54:36|     1| 22.6|\n",
      "|                     24|2025-04-26 22:59:36|     1| 22.5|\n",
      "|                     25|2025-04-26 23:04:36|     1| 22.3|\n",
      "|                     26|2025-04-26 23:09:36|     1| 22.4|\n",
      "|                     27|2025-04-26 23:14:36|     1| 22.4|\n",
      "|                     28|2025-04-26 23:19:36|     1| 22.5|\n",
      "|                     29|2025-04-26 23:24:36|     1| 22.5|\n",
      "|                     30|2025-04-26 23:29:36|     1| 22.5|\n",
      "+-----------------------+-------------------+------+-----+\n",
      "only showing top 30 rows\n",
      "\n"
     ]
    },
    {
     "name": "stderr",
     "output_type": "stream",
     "text": [
      "                                                                                \r"
     ]
    }
   ],
   "source": [
    "from pyspark.sql.window import Window\n",
    "from pyspark.sql import functions as F\n",
    "\n",
    "# Definir uma janela ordenada pelo data_hora\n",
    "window_spec = Window.partitionBy('fk_upa').orderBy('data_hora') \\\n",
    "                    .rowsBetween(Window.unboundedPreceding, 0)\n",
    "\n",
    "# Criar uma nova coluna que faz um last() ignorando NULLs\n",
    "a = a.withColumn('valor_preenchido', F.last('valor', ignorenulls=True).over(window_spec))\n",
    "\n",
    "# Substituir a coluna original pelo preenchido\n",
    "a = a.drop('valor').withColumnRenamed('valor_preenchido', 'valor')\n",
    "\n",
    "# Mostrar resultado\n",
    "a.show(30)"
   ]
  },
  {
   "cell_type": "code",
   "execution_count": 4,
   "id": "7c237a4d",
   "metadata": {},
   "outputs": [
    {
     "name": "stdout",
     "output_type": "stream",
     "text": [
      "Outliers encontrados:\n",
      "+-----------------------+-------------------+------+-----+\n",
      "|id_temperatura_ambiente|          data_hora|fk_upa|valor|\n",
      "+-----------------------+-------------------+------+-----+\n",
      "|                     41|2025-04-27 00:24:36|     1|-14.8|\n",
      "|                    110|2025-04-27 06:09:36|     1|-16.2|\n",
      "|                    112|2025-04-27 06:19:36|     1| 96.7|\n",
      "|                    190|2025-04-27 12:49:36|     1| -8.3|\n",
      "|                    211|2025-04-27 14:34:36|     1|-24.9|\n",
      "|                    235|2025-04-27 16:34:36|     1| -3.2|\n",
      "|                    246|2025-04-27 17:29:36|     1| 66.6|\n",
      "|                    256|2025-04-27 18:19:36|     1| 68.9|\n",
      "|                    377|2025-04-27 04:24:36|     2|-10.2|\n",
      "|                    483|2025-04-27 13:14:36|     2|-26.7|\n",
      "|                    518|2025-04-27 16:09:36|     2|-13.5|\n",
      "|                    664|2025-04-27 04:19:36|     3|-47.3|\n",
      "|                    678|2025-04-27 05:29:36|     3| 68.6|\n",
      "|                    719|2025-04-27 08:54:36|     3|  0.8|\n",
      "|                    759|2025-04-27 12:14:36|     3|-32.7|\n",
      "|                    760|2025-04-27 12:19:36|     3|-32.7|\n",
      "|                    772|2025-04-27 13:19:36|     3|-22.1|\n",
      "|                    852|2025-04-27 19:59:36|     3|-23.5|\n",
      "|                    919|2025-04-27 01:34:36|     4| 73.0|\n",
      "|                    946|2025-04-27 03:49:36|     4| 99.3|\n",
      "+-----------------------+-------------------+------+-----+\n",
      "only showing top 20 rows\n",
      "\n"
     ]
    }
   ],
   "source": [
    "# Mostrar possíveis outliers\n",
    "outliers = a.filter((col('valor') < 10) | (col('valor') > 40))\n",
    "print('Outliers encontrados:')\n",
    "outliers.show()"
   ]
  },
  {
   "cell_type": "code",
   "execution_count": 5,
   "id": "914b80d5",
   "metadata": {},
   "outputs": [
    {
     "name": "stdout",
     "output_type": "stream",
     "text": [
      "Mediana calculada: 22.9\n",
      "DataFrame final:\n",
      "+-----------------------+-------------------+------+-----+\n",
      "|id_temperatura_ambiente|          data_hora|fk_upa|valor|\n",
      "+-----------------------+-------------------+------+-----+\n",
      "|                      1|2025-04-26 21:04:36|     1| 22.7|\n",
      "|                      2|2025-04-26 21:09:36|     1| 22.5|\n",
      "|                      3|2025-04-26 21:14:36|     1| 22.4|\n",
      "|                      4|2025-04-26 21:19:36|     1| 22.5|\n",
      "|                      5|2025-04-26 21:24:36|     1| 22.5|\n",
      "|                      6|2025-04-26 21:29:36|     1| 22.5|\n",
      "|                      7|2025-04-26 21:34:36|     1| 22.5|\n",
      "|                      8|2025-04-26 21:39:36|     1| 22.4|\n",
      "|                      9|2025-04-26 21:44:36|     1| 22.3|\n",
      "|                     10|2025-04-26 21:49:36|     1| 22.2|\n",
      "|                     11|2025-04-26 21:54:36|     1| 22.4|\n",
      "|                     12|2025-04-26 21:59:36|     1| 22.5|\n",
      "|                     13|2025-04-26 22:04:36|     1| 22.5|\n",
      "|                     14|2025-04-26 22:09:36|     1| 22.5|\n",
      "|                     15|2025-04-26 22:14:36|     1| 22.6|\n",
      "|                     16|2025-04-26 22:19:36|     1| 22.4|\n",
      "|                     17|2025-04-26 22:24:36|     1| 22.3|\n",
      "|                     18|2025-04-26 22:29:36|     1| 22.1|\n",
      "|                     19|2025-04-26 22:34:36|     1| 22.1|\n",
      "|                     20|2025-04-26 22:39:36|     1| 22.2|\n",
      "|                     21|2025-04-26 22:44:36|     1| 22.2|\n",
      "|                     22|2025-04-26 22:49:36|     1| 22.9|\n",
      "|                     23|2025-04-26 22:54:36|     1| 22.6|\n",
      "|                     24|2025-04-26 22:59:36|     1| 22.5|\n",
      "|                     25|2025-04-26 23:04:36|     1| 22.3|\n",
      "|                     26|2025-04-26 23:09:36|     1| 22.4|\n",
      "|                     27|2025-04-26 23:14:36|     1| 22.4|\n",
      "|                     28|2025-04-26 23:19:36|     1| 22.5|\n",
      "|                     29|2025-04-26 23:24:36|     1| 22.5|\n",
      "|                     30|2025-04-26 23:29:36|     1| 22.5|\n",
      "|                     31|2025-04-26 23:34:36|     1| 22.4|\n",
      "|                     32|2025-04-26 23:39:36|     1| 22.3|\n",
      "|                     33|2025-04-26 23:44:36|     1| 22.1|\n",
      "|                     34|2025-04-26 23:49:36|     1| 21.9|\n",
      "|                     35|2025-04-26 23:54:36|     1| 22.2|\n",
      "|                     36|2025-04-26 23:59:36|     1| 22.2|\n",
      "|                     37|2025-04-27 00:04:36|     1| 22.4|\n",
      "|                     38|2025-04-27 00:09:36|     1| 22.7|\n",
      "|                     39|2025-04-27 00:14:36|     1| 22.8|\n",
      "|                     40|2025-04-27 00:19:36|     1| 22.7|\n",
      "|                     41|2025-04-27 00:24:36|     1| 22.9|\n",
      "|                     42|2025-04-27 00:29:36|     1| 22.6|\n",
      "|                     43|2025-04-27 00:34:36|     1| 22.7|\n",
      "|                     44|2025-04-27 00:39:36|     1| 22.7|\n",
      "|                     45|2025-04-27 00:44:36|     1| 22.7|\n",
      "|                     46|2025-04-27 00:49:36|     1| 22.9|\n",
      "|                     47|2025-04-27 00:54:36|     1| 22.9|\n",
      "|                     48|2025-04-27 00:59:36|     1| 22.9|\n",
      "|                     49|2025-04-27 01:04:36|     1| 23.0|\n",
      "|                     50|2025-04-27 01:09:36|     1| 23.0|\n",
      "|                     51|2025-04-27 01:14:36|     1| 22.8|\n",
      "|                     52|2025-04-27 01:19:36|     1| 22.6|\n",
      "|                     53|2025-04-27 01:24:36|     1| 22.7|\n",
      "|                     54|2025-04-27 01:29:36|     1| 22.8|\n",
      "|                     55|2025-04-27 01:34:36|     1| 22.7|\n",
      "|                     56|2025-04-27 01:39:36|     1| 22.8|\n",
      "|                     57|2025-04-27 01:44:36|     1| 22.6|\n",
      "|                     58|2025-04-27 01:49:36|     1| 22.8|\n",
      "|                     59|2025-04-27 01:54:36|     1| 22.9|\n",
      "|                     60|2025-04-27 01:59:36|     1| 23.0|\n",
      "|                     61|2025-04-27 02:04:36|     1| 23.0|\n",
      "|                     62|2025-04-27 02:09:36|     1| 22.9|\n",
      "|                     63|2025-04-27 02:14:36|     1| 22.9|\n",
      "|                     64|2025-04-27 02:19:36|     1| 22.9|\n",
      "|                     65|2025-04-27 02:24:36|     1| 23.0|\n",
      "|                     66|2025-04-27 02:29:36|     1| 23.0|\n",
      "|                     67|2025-04-27 02:34:36|     1| 22.9|\n",
      "|                     68|2025-04-27 02:39:36|     1| 22.9|\n",
      "|                     69|2025-04-27 02:44:36|     1| 22.8|\n",
      "|                     70|2025-04-27 02:49:36|     1| 23.1|\n",
      "+-----------------------+-------------------+------+-----+\n",
      "only showing top 70 rows\n",
      "\n"
     ]
    }
   ],
   "source": [
    "mediana = a.approxQuantile(\"valor\", [0.5], 0.01)[0]\n",
    "print(f'Mediana calculada: {mediana}')\n",
    "\n",
    "# Substituir os outliers pela mediana\n",
    "a = a.withColumn('valor', \n",
    "                when((col('valor') < 10) | (col('valor') > 40), mediana)\n",
    "                .otherwise(col('valor')))\n",
    "\n",
    "# Mostrar resultado final (sem nulos e sem outliers)\n",
    "print('DataFrame final:')\n",
    "a.show(70)"
   ]
  },
  {
   "cell_type": "code",
   "execution_count": 6,
   "id": "1ad0981c",
   "metadata": {},
   "outputs": [
    {
     "name": "stderr",
     "output_type": "stream",
     "text": [
      "25/04/28 20:35:36 WARN AbstractS3ACommitterFactory: Using standard FileOutputCommitter to commit work. This is slow and potentially unsafe.\n",
      "25/04/28 20:35:37 WARN AbstractS3ACommitterFactory: Using standard FileOutputCommitter to commit work. This is slow and potentially unsafe.\n",
      "                                                                                \r"
     ]
    }
   ],
   "source": [
    "a.coalesce(1) \\\n",
    "    .write \\\n",
    "    .option('header', 'true') \\\n",
    "    .mode('overwrite') \\\n",
    "    .csv('s3a://bucket-trusted-upa-connect/temperatura_ambiente_tratado.csv')\n",
    "\n",
    "spark.stop()"
   ]
  },
  {
   "cell_type": "code",
   "execution_count": null,
   "id": "8793fc65",
   "metadata": {},
   "outputs": [],
   "source": []
  }
 ],
 "metadata": {
  "kernelspec": {
   "display_name": "Python 3 (ipykernel)",
   "language": "python",
   "name": "python3"
  },
  "language_info": {
   "codemirror_mode": {
    "name": "ipython",
    "version": 3
   },
   "file_extension": ".py",
   "mimetype": "text/x-python",
   "name": "python",
   "nbconvert_exporter": "python",
   "pygments_lexer": "ipython3",
   "version": "3.7.16"
  }
 },
 "nbformat": 4,
 "nbformat_minor": 5
}

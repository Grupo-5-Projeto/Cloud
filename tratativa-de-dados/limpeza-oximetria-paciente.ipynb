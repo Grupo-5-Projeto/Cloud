{
 "cells": [
  {
   "cell_type": "code",
   "execution_count": 1,
   "id": "42ea711f",
   "metadata": {},
   "outputs": [
    {
     "name": "stdout",
     "output_type": "stream",
     "text": [
      ":: loading settings :: url = jar:file:/usr/local/lib/python3.7/site-packages/pyspark/jars/ivy-2.5.1.jar!/org/apache/ivy/core/settings/ivysettings.xml\n"
     ]
    },
    {
     "name": "stderr",
     "output_type": "stream",
     "text": [
      "Ivy Default Cache set to: /root/.ivy2/cache\n",
      "The jars for the packages stored in: /root/.ivy2/jars\n",
      "org.apache.hadoop#hadoop-aws added as a dependency\n",
      "com.amazonaws#aws-java-sdk-bundle added as a dependency\n",
      ":: resolving dependencies :: org.apache.spark#spark-submit-parent-71ab9ef5-de6c-4fa5-b177-6c44edd47569;1.0\n",
      "\tconfs: [default]\n",
      "\tfound org.apache.hadoop#hadoop-aws;3.3.4 in central\n",
      "\tfound com.amazonaws#aws-java-sdk-bundle;1.12.262 in central\n",
      "\tfound org.wildfly.openssl#wildfly-openssl;1.0.7.Final in central\n",
      ":: resolution report :: resolve 431ms :: artifacts dl 31ms\n",
      "\t:: modules in use:\n",
      "\tcom.amazonaws#aws-java-sdk-bundle;1.12.262 from central in [default]\n",
      "\torg.apache.hadoop#hadoop-aws;3.3.4 from central in [default]\n",
      "\torg.wildfly.openssl#wildfly-openssl;1.0.7.Final from central in [default]\n",
      "\t:: evicted modules:\n",
      "\tcom.amazonaws#aws-java-sdk-bundle;1.11.901 by [com.amazonaws#aws-java-sdk-bundle;1.12.262] in [default]\n",
      "\t---------------------------------------------------------------------\n",
      "\t|                  |            modules            ||   artifacts   |\n",
      "\t|       conf       | number| search|dwnlded|evicted|| number|dwnlded|\n",
      "\t---------------------------------------------------------------------\n",
      "\t|      default     |   4   |   0   |   0   |   1   ||   3   |   0   |\n",
      "\t---------------------------------------------------------------------\n",
      ":: retrieving :: org.apache.spark#spark-submit-parent-71ab9ef5-de6c-4fa5-b177-6c44edd47569\n",
      "\tconfs: [default]\n",
      "\t0 artifacts copied, 3 already retrieved (0kB/17ms)\n",
      "25/04/28 21:05:41 WARN NativeCodeLoader: Unable to load native-hadoop library for your platform... using builtin-java classes where applicable\n",
      "Setting default log level to \"WARN\".\n",
      "To adjust logging level use sc.setLogLevel(newLevel). For SparkR, use setLogLevel(newLevel).\n",
      "/usr/local/lib/python3.7/site-packages/pyspark/context.py:317: FutureWarning: Python 3.7 support is deprecated in Spark 3.4.\n",
      "  warnings.warn(\"Python 3.7 support is deprecated in Spark 3.4.\", FutureWarning)\n",
      "25/04/28 21:05:48 WARN MetricsConfig: Cannot locate configuration: tried hadoop-metrics2-s3a-file-system.properties,hadoop-metrics2.properties\n",
      "                                                                                \r"
     ]
    },
    {
     "name": "stdout",
     "output_type": "stream",
     "text": [
      "+-----------+-------------------+-----+-----------+\n",
      "|id_oximetro|          data_hora|valor|fk_paciente|\n",
      "+-----------+-------------------+-----+-----------+\n",
      "|          1|2025-04-26 21:04:36| 96.0|         25|\n",
      "|          2|2025-04-26 21:04:35| 95.0|         25|\n",
      "|          3|2025-04-26 21:04:34| 97.0|         25|\n",
      "|          4|2025-04-26 21:09:36| 95.0|         19|\n",
      "|          5|2025-04-26 21:09:35| 95.0|         19|\n",
      "|          6|2025-04-26 21:09:34| 94.0|         19|\n",
      "|          7|2025-04-26 21:14:36| 96.0|         92|\n",
      "|          8|2025-04-26 21:14:35| 96.0|         92|\n",
      "|          9|2025-04-26 21:14:34| 95.0|         92|\n",
      "|         10|2025-04-26 21:19:36| 99.0|        117|\n",
      "|         11|2025-04-26 21:19:35| 99.0|        117|\n",
      "|         12|2025-04-26 21:19:34| 99.0|        117|\n",
      "|         13|2025-04-26 21:24:36| 97.0|         61|\n",
      "|         14|2025-04-26 21:24:35| 97.0|         61|\n",
      "|         15|2025-04-26 21:24:34| 97.0|         61|\n",
      "|         16|2025-04-26 21:29:36| 97.0|        112|\n",
      "|         17|2025-04-26 21:29:35| 97.0|        112|\n",
      "|         18|2025-04-26 21:29:34| 96.0|        112|\n",
      "|         19|2025-04-26 21:34:36| 96.0|         33|\n",
      "|         20|2025-04-26 21:34:35| 96.0|         33|\n",
      "+-----------+-------------------+-----+-----------+\n",
      "only showing top 20 rows\n",
      "\n"
     ]
    }
   ],
   "source": [
    "from pyspark import SparkConf\n",
    "from pyspark.sql import SparkSession\n",
    "from pyspark.sql.functions import col, avg, sum as sum_, first, round\n",
    "from pyspark.sql.types import DoubleType, IntegerType\n",
    "\n",
    "# Configurações do Spark\n",
    "conf = SparkConf()\n",
    "conf.set('spark.jars.packages', 'org.apache.hadoop:hadoop-aws:3.3.4,com.amazonaws:aws-java-sdk-bundle:1.11.901')\n",
    "conf.set('spark.hadoop.fs.s3a.aws.credentials.provider', 'com.amazonaws.auth.InstanceProfileCredentialsProvider')\n",
    "\n",
    "# Criar sessão Spark\n",
    "spark = SparkSession.builder.config(conf=conf).getOrCreate()\n",
    "\n",
    "# Ler o CSV, já tratando \"NULL\" como valor nulo\n",
    "a = spark.read.option('delimiter', ',') \\\n",
    "              .option('header', 'true') \\\n",
    "              .option('nullValue', 'null') \\\n",
    "              .csv('s3a://bucket-raw-upa-connect/oximetria_paciente.csv')\n",
    "\n",
    "# Converter 'valor' para DoubleType e 'fk_upa' para IntegerType\n",
    "a = a.withColumn('valor', col('valor').cast(DoubleType())) \\\n",
    "     .withColumn('fk_paciente', col('fk_paciente').cast(IntegerType()))\n",
    "\n",
    "a.show()"
   ]
  },
  {
   "cell_type": "code",
   "execution_count": 2,
   "id": "84724e76",
   "metadata": {},
   "outputs": [
    {
     "name": "stdout",
     "output_type": "stream",
     "text": [
      "+---------+\n",
      "|qtd_nulls|\n",
      "+---------+\n",
      "|       82|\n",
      "+---------+\n",
      "\n"
     ]
    }
   ],
   "source": [
    "nulls_valor = a.select(sum_(col(\"valor\").isNull().cast(\"decimal\")).alias(\"qtd_nulls\"))\n",
    "\n",
    "# Mostra o resultado\n",
    "nulls_valor.show()"
   ]
  },
  {
   "cell_type": "code",
   "execution_count": 3,
   "id": "f04ae8aa",
   "metadata": {},
   "outputs": [
    {
     "name": "stdout",
     "output_type": "stream",
     "text": [
      "+-----------+-------------------+-----+-----------+\n",
      "|id_oximetro|          data_hora|valor|fk_paciente|\n",
      "+-----------+-------------------+-----+-----------+\n",
      "|         25|2025-04-26 21:44:36| null|         33|\n",
      "|         37|2025-04-26 22:04:36| null|         38|\n",
      "|         64|2025-04-26 22:49:36| null|        105|\n",
      "|         76|2025-04-26 23:09:36| null|        110|\n",
      "|         79|2025-04-26 23:14:36| null|         25|\n",
      "|         82|2025-04-26 23:19:36| null|        113|\n",
      "|        100|2025-04-26 23:49:36| null|         32|\n",
      "|        130|2025-04-27 00:39:36| null|        103|\n",
      "|        145|2025-04-27 01:04:36| null|        119|\n",
      "|        169|2025-04-27 01:44:36| null|        118|\n",
      "|        175|2025-04-27 01:54:36| null|         80|\n",
      "|        190|2025-04-27 02:19:36| null|         86|\n",
      "|        199|2025-04-27 02:34:36| null|        114|\n",
      "|        226|2025-04-27 03:19:36| null|         18|\n",
      "|        250|2025-04-27 03:59:36| null|        106|\n",
      "|        253|2025-04-27 04:04:36| null|         99|\n",
      "|        259|2025-04-27 04:14:36| null|         65|\n",
      "|        265|2025-04-27 04:24:36| null|         42|\n",
      "|        268|2025-04-27 04:29:36| null|         88|\n",
      "|        307|2025-04-27 05:34:36| null|         41|\n",
      "+-----------+-------------------+-----+-----------+\n",
      "only showing top 20 rows\n",
      "\n",
      "+-----------+-------------------+-----+-----------+\n",
      "|id_oximetro|          data_hora|valor|fk_paciente|\n",
      "+-----------+-------------------+-----+-----------+\n",
      "|          1|2025-04-26 21:04:36| 96.0|         25|\n",
      "|          2|2025-04-26 21:04:35| 95.0|         25|\n",
      "|          3|2025-04-26 21:04:34| 97.0|         25|\n",
      "|          4|2025-04-26 21:09:36| 95.0|         19|\n",
      "|          5|2025-04-26 21:09:35| 95.0|         19|\n",
      "|          6|2025-04-26 21:09:34| 94.0|         19|\n",
      "|          7|2025-04-26 21:14:36| 96.0|         92|\n",
      "|          8|2025-04-26 21:14:35| 96.0|         92|\n",
      "|          9|2025-04-26 21:14:34| 95.0|         92|\n",
      "|         10|2025-04-26 21:19:36| 99.0|        117|\n",
      "|         11|2025-04-26 21:19:35| 99.0|        117|\n",
      "|         12|2025-04-26 21:19:34| 99.0|        117|\n",
      "|         13|2025-04-26 21:24:36| 97.0|         61|\n",
      "|         14|2025-04-26 21:24:35| 97.0|         61|\n",
      "|         15|2025-04-26 21:24:34| 97.0|         61|\n",
      "|         16|2025-04-26 21:29:36| 97.0|        112|\n",
      "|         17|2025-04-26 21:29:35| 97.0|        112|\n",
      "|         18|2025-04-26 21:29:34| 96.0|        112|\n",
      "|         19|2025-04-26 21:34:36| 96.0|         33|\n",
      "|         20|2025-04-26 21:34:35| 96.0|         33|\n",
      "+-----------+-------------------+-----+-----------+\n",
      "only showing top 20 rows\n",
      "\n"
     ]
    }
   ],
   "source": [
    "# Nulls\n",
    "nulls = a.filter(col('valor').isNull())\n",
    "\n",
    "nulls.show()\n",
    "\n",
    "# Remover linhas onde a coluna 'valor' está nula\n",
    "a = a.filter(col('valor').isNotNull())\n",
    "\n",
    "a.show()"
   ]
  },
  {
   "cell_type": "code",
   "execution_count": 4,
   "id": "ab23a765",
   "metadata": {},
   "outputs": [
    {
     "name": "stdout",
     "output_type": "stream",
     "text": [
      "Outliers encontrados:\n",
      "+-----------+-------------------+-----+-----------+\n",
      "|id_oximetro|          data_hora|valor|fk_paciente|\n",
      "+-----------+-------------------+-----+-----------+\n",
      "|        103|2025-04-26 23:54:36|107.0|        109|\n",
      "|        104|2025-04-26 23:54:35|107.0|        109|\n",
      "|        105|2025-04-26 23:54:34|106.0|        109|\n",
      "+-----------+-------------------+-----+-----------+\n",
      "\n"
     ]
    }
   ],
   "source": [
    "# Mostrar possíveis outliers\n",
    "outliers = a.filter((col('valor') <= 0) | (col('valor') > 100))\n",
    "print('Outliers encontrados:')\n",
    "outliers.show()"
   ]
  },
  {
   "cell_type": "code",
   "execution_count": 5,
   "id": "834bc457",
   "metadata": {},
   "outputs": [
    {
     "name": "stdout",
     "output_type": "stream",
     "text": [
      "DataFrame:\n",
      "+-----------+-------------------+-----+-----------+\n",
      "|id_oximetro|          data_hora|valor|fk_paciente|\n",
      "+-----------+-------------------+-----+-----------+\n",
      "|          1|2025-04-26 21:04:36| 96.0|         25|\n",
      "|          2|2025-04-26 21:04:35| 95.0|         25|\n",
      "|          3|2025-04-26 21:04:34| 97.0|         25|\n",
      "|          4|2025-04-26 21:09:36| 95.0|         19|\n",
      "|          5|2025-04-26 21:09:35| 95.0|         19|\n",
      "|          6|2025-04-26 21:09:34| 94.0|         19|\n",
      "|          7|2025-04-26 21:14:36| 96.0|         92|\n",
      "|          8|2025-04-26 21:14:35| 96.0|         92|\n",
      "|          9|2025-04-26 21:14:34| 95.0|         92|\n",
      "|         10|2025-04-26 21:19:36| 99.0|        117|\n",
      "|         11|2025-04-26 21:19:35| 99.0|        117|\n",
      "|         12|2025-04-26 21:19:34| 99.0|        117|\n",
      "|         13|2025-04-26 21:24:36| 97.0|         61|\n",
      "|         14|2025-04-26 21:24:35| 97.0|         61|\n",
      "|         15|2025-04-26 21:24:34| 97.0|         61|\n",
      "|         16|2025-04-26 21:29:36| 97.0|        112|\n",
      "|         17|2025-04-26 21:29:35| 97.0|        112|\n",
      "|         18|2025-04-26 21:29:34| 96.0|        112|\n",
      "|         19|2025-04-26 21:34:36| 96.0|         33|\n",
      "|         20|2025-04-26 21:34:35| 96.0|         33|\n",
      "+-----------+-------------------+-----+-----------+\n",
      "only showing top 20 rows\n",
      "\n"
     ]
    }
   ],
   "source": [
    "# Remover os outliers\n",
    "a = a.filter((col('valor') >= 0) & (col('valor') <= 100))\n",
    "\n",
    "# Mostrar resultado final (sem nulos e sem outliers)\n",
    "print('DataFrame:')\n",
    "a.show()"
   ]
  },
  {
   "cell_type": "code",
   "execution_count": 6,
   "id": "982a6473",
   "metadata": {},
   "outputs": [
    {
     "name": "stdout",
     "output_type": "stream",
     "text": [
      "DataFrame final:\n"
     ]
    },
    {
     "name": "stderr",
     "output_type": "stream",
     "text": [
      "[Stage 9:>                                                          (0 + 1) / 1]\r"
     ]
    },
    {
     "name": "stdout",
     "output_type": "stream",
     "text": [
      "+-----------+-------------------+---------------+\n",
      "|fk_paciente|          data_hora|media_oximetria|\n",
      "+-----------+-------------------+---------------+\n",
      "|         25|2025-04-26 21:04:36|           96.8|\n",
      "|         19|2025-04-26 21:09:36|           94.7|\n",
      "|         92|2025-04-26 21:14:36|           97.7|\n",
      "|        117|2025-04-26 21:19:36|           97.5|\n",
      "|         61|2025-04-26 21:24:36|           96.6|\n",
      "|        112|2025-04-26 21:29:36|           96.4|\n",
      "|         33|2025-04-26 21:34:36|           96.5|\n",
      "|         17|2025-04-26 21:39:36|           82.3|\n",
      "|        105|2025-04-26 21:49:36|           96.6|\n",
      "|         13|2025-04-26 21:54:36|           97.1|\n",
      "|         88|2025-04-26 21:59:36|           97.1|\n",
      "|         38|2025-04-26 22:04:35|           97.0|\n",
      "|         44|2025-04-26 22:14:36|           95.6|\n",
      "|         54|2025-04-26 22:19:36|           96.8|\n",
      "|        107|2025-04-26 22:24:36|           98.4|\n",
      "|         15|2025-04-26 22:29:36|           98.3|\n",
      "|        127|2025-04-26 22:34:36|           96.2|\n",
      "|         62|2025-04-26 22:39:36|           97.6|\n",
      "|         78|2025-04-26 22:44:36|           98.0|\n",
      "|         48|2025-04-26 22:54:36|           97.3|\n",
      "+-----------+-------------------+---------------+\n",
      "only showing top 20 rows\n",
      "\n"
     ]
    },
    {
     "name": "stderr",
     "output_type": "stream",
     "text": [
      "                                                                                \r"
     ]
    }
   ],
   "source": [
    "# Agrupa por paciente, pega a primeira data_hora e calcula a média do valor\n",
    "a_agrupada = a.groupBy('fk_paciente').agg(\n",
    "    first('data_hora').alias('data_hora'),\n",
    "    round(avg('valor'), 1).alias('media_oximetria')\n",
    ")\n",
    "\n",
    "# Ordena pelo fk_paciente (se quiser)\n",
    "a_agrupada = a_agrupada.orderBy('data_hora')\n",
    "\n",
    "# Exibe o resultado\n",
    "print('DataFrame final:')\n",
    "a_agrupada.show()"
   ]
  },
  {
   "cell_type": "code",
   "execution_count": null,
   "id": "806e7b4a",
   "metadata": {},
   "outputs": [
    {
     "name": "stderr",
     "output_type": "stream",
     "text": [
      "25/04/28 21:06:06 WARN AbstractS3ACommitterFactory: Using standard FileOutputCommitter to commit work. This is slow and potentially unsafe.\n",
      "25/04/28 21:06:06 WARN AbstractS3ACommitterFactory: Using standard FileOutputCommitter to commit work. This is slow and potentially unsafe.\n",
      "                                                                                \r"
     ]
    }
   ],
   "source": [
    "a_agrupada.coalesce(1) \\\n",
    "    .write \\\n",
    "    .option('header', 'true') \\\n",
    "    .mode('overwrite') \\\n",
    "    .csv('s3a://bucket-trusted-upa-connect/oximetria_paciente_tratado.csv')\n",
    "\n",
    "spark.stop()"
   ]
  },
  {
   "cell_type": "code",
   "execution_count": null,
   "id": "50342645",
   "metadata": {},
   "outputs": [],
   "source": []
  }
 ],
 "metadata": {
  "kernelspec": {
   "display_name": "Python 3 (ipykernel)",
   "language": "python",
   "name": "python3"
  },
  "language_info": {
   "codemirror_mode": {
    "name": "ipython",
    "version": 3
   },
   "file_extension": ".py",
   "mimetype": "text/x-python",
   "name": "python",
   "nbconvert_exporter": "python",
   "pygments_lexer": "ipython3",
   "version": "3.7.16"
  }
 },
 "nbformat": 4,
 "nbformat_minor": 5
}
